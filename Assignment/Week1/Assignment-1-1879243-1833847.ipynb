{
 "cells": [
  {
   "cell_type": "markdown",
   "id": "62522bb9",
   "metadata": {},
   "source": [
    "# JBI010 - Assignment 1 (2022-2023)\n",
    "\n",
    "This Jupyter notebook contains the first assignment of the course. It aims at practicing the main skills learned during the first three weeks of the course. Don't forget to analyze each task first before diving into its implementation—that is, identify the main elements (e.g. inputs, output, instructions) of the problem to create a program that offers a concrete solution."
   ]
  },
  {
   "cell_type": "markdown",
   "id": "620d8c9c",
   "metadata": {},
   "source": [
    "## Table of Contents\n",
    "<div class=\"toc\" style=\"margin-top: 1em;\">\n",
    "    <ul class=\"toc-item\">\n",
    "        <li>\n",
    "            <span><a href=\"#Introduction-to-this-template-notebook\" data-toc-modified-id=\"Introduction-to-this-template-notebook\">Introduction to this template notebook</a></span>\n",
    "        </li>\n",
    "        <li>\n",
    "            <span><a href=\"#Temperature_Conversion\" data-toc-modified-id=\"Temperature_Conversion\">Temperature Conversion</a></span>\n",
    "        </li>\n",
    "        <li>\n",
    "            <span><a href=\"#Task-1:-Celsius-to-Fahrenheit-and-Back\" data-toc-modified-id=\"Task-1:-Celsius-to-Fahrenheit-and-Back\">Task 1: Celsius to Fahrenheit and Back</a></span>\n",
    "        </li>\n",
    "        <li>\n",
    "            <span><a href=\"#Task-2:-Convert-Temperature-Data\" data-toc-modified-id=\"Task-2:-Convert-Temperature-Data\">Task 2: Convert Temperature Data</a></span>\n",
    "        </li>\n",
    "        <li>\n",
    "            <span><a href=\"#Task-3:-Process-Text-File\" data-toc-modified-id=\"Task-3:-Process-Text-File\">Task 3: Process Text File</a></span>\n",
    "        </li>\n",
    "        <li>\n",
    "            <span><a href=\"#Task-4:-Process-User-Input\" data-toc-modified-id=\"Task-4:-Process-User-Input\">Task 4: Process User Input</a></span>\n",
    "        </li>\n",
    "        <li>\n",
    "            <span><a href=\"#Task-5:-Drawing-a-Scatter-Plot\" data-toc-modified-id=\"Task-5:-Drawing-a-Scatter-Plot\">Task 5: Drawing a Scatter Plot</a></span>\n",
    "        </li>\n",
    "    </ul>\n",
    "</div>"
   ]
  },
  {
   "cell_type": "markdown",
   "id": "d9368546",
   "metadata": {},
   "source": [
    "\n",
    "# Introduction to this template notebook\n",
    "\n",
    "* This is a **personal** notebook. \n",
    "* Make sure you work in a **copy** of `...-template.ipynb`,\n",
    "    **renamed** to `...-yourIDnr.ipynb`,\n",
    "    where `yourIDnr` is your TU/e identification number.  \n",
    "* In case of two authors, include both id. numbers:\n",
    "    `...-firstIDnr-secondIDnr.ipynb`.\n",
    "\n",
    "<div class=\"alert alert-danger\" role=\"danger\">\n",
    "<h3>Integrity</h3>\n",
    "<ul>\n",
    "    <li>In this course you must act according to the rules of the TU/e code of scientific conduct.</li>\n",
    "    <li>All the exercises and the graded assignments are to be done within your programming homework group.</li>\n",
    "    <li>You must not copy from the Internet, your friends, books... If you represent other people's work as your own, then that constitutes fraud and will be reported to the Examination Committee.</li>\n",
    "    <li>Making your work available to others (complicity) also constitutes fraud.</li>\n",
    "</ul>\n",
    "</div>\n",
    "\n",
    "You are expected to work with Python 3 code in this notebook.\n",
    "\n",
    "The locations where you should write your solutions can be recognized by\n",
    "**marker lines**,\n",
    "which look like this:\n",
    "\n",
    ">`#//`\n",
    ">    `BEGIN_TODO [Label]` `Description` `(n points)`\n",
    ">\n",
    ">`#//`\n",
    ">    `END_TODO [Label]`\n",
    "\n",
    "<div class=\"alert alert-warning\" role=\"alert\">Do NOT modify or delete these marker lines.  Keep them as they are.<br/>\n",
    "<br/>\n",
    "NEVER write code that is needed for grading <i>outside</i> the marked blocks.\n",
    "It is invisible there.\n",
    "</div>\n",
    "\n",
    "Proceed in this notebook as follows:\n",
    "* **Personalize** the notebook (see below)\n",
    "* **Read** the text.\n",
    "* **Fill in** your solutions between `BEGIN_TODO` and `END_TODO` marker lines.\n",
    "* **Run** _all_ code cells (also the ones _without_ your code),\n",
    "    _in linear order_ from the first code cell.\n",
    "\n",
    "**Personalize your notebook**:\n",
    "1. Copy the following lines of code (`AUTHOR2_...` only when applicable):\n",
    "\n",
    "  ```python\n",
    "  AUTHOR_NAME = 'Your Full Name'\n",
    "  AUTHOR_ID_NR = '1234567'\n",
    "  AUTHOR_DATE = 'YYYY-MM-DD'  # when first modified, e.g. '2019-02-26'\n",
    "\n",
    "  AUTHOR2_NAME = 'Not Applicable'\n",
    "  AUTHOR2_ID_NR = 'Not Applicable'\n",
    "  ```\n",
    "\n",
    "1. Paste them between the marker lines in the next code cell.\n",
    "1. Fill in your _full name_, _identification number_, and the current _date_ as strings between quotes.\n",
    "1. When applicable, also copy and fill in the name and id.nr. for the second author.\n",
    "1. Run the code cell by putting the cursor there and typing **Control-Enter**.\n"
   ]
  },
  {
   "cell_type": "code",
   "execution_count": 1,
   "id": "cc8f5450",
   "metadata": {
    "ExecuteTime": {
     "end_time": "2022-09-09T15:32:11.283021Z",
     "start_time": "2022-09-09T15:32:11.275075Z"
    }
   },
   "outputs": [
    {
     "data": {
      "text/plain": [
       "('Zhou Chenxiao', '1879243', '2022-09-12')"
      ]
     },
     "execution_count": 1,
     "metadata": {},
     "output_type": "execute_result"
    }
   ],
   "source": [
    "#// BEGIN_TODO [Author] Name, Id.nr., Date, as strings (1 point)\n",
    "\n",
    "AUTHOR_NAME = 'Zhou Chenxiao'\n",
    "AUTHOR_ID_NR = '1879243'\n",
    "AUTHOR_DATE = '2022-09-12'  # when first modified, e.g. '2019-02-26'\n",
    "\n",
    "AUTHOR2_NAME = 'Shen Jikun'\n",
    "AUTHOR2_ID_NR = '1833847'\n",
    "\n",
    "#// END_TODO [Author]\n",
    "\n",
    "AUTHOR_NAME, AUTHOR_ID_NR, AUTHOR_DATE"
   ]
  },
  {
   "cell_type": "markdown",
   "id": "80419950",
   "metadata": {},
   "source": [
    "## Preliminaries\n",
    "\n",
    "Run the cell below. This cell will import additional modules providing additional Python functionality."
   ]
  },
  {
   "cell_type": "code",
   "execution_count": 2,
   "id": "2c5fbd40",
   "metadata": {
    "ExecuteTime": {
     "end_time": "2022-09-09T15:32:11.300011Z",
     "start_time": "2022-09-09T15:32:11.285016Z"
    }
   },
   "outputs": [],
   "source": [
    "from typing import List, Any, Callable\n",
    "import doctest"
   ]
  },
  {
   "cell_type": "markdown",
   "id": "87bf1b92",
   "metadata": {},
   "source": [
    "## Temperature Conversion\n",
    "\n",
    "Nastaran and Sam are two Iranian woman and an American man, respectively, who recently started a relationship. Nastaran lives in Iran and Sam live in the US. In Iran, people use the **Celsius** scale, while people in the US use the **Fahrenheit** scale to measure the temperature. \n",
    "It is difficult for both of them to convert the temperature from one scale to another. \n",
    "Thus, they decided to create a file including the scales and some temperatures.\n",
    "You are requested to help them with the conversion and draw a scatter plot diagram to represent the relationship between the two scales.\n",
    "\n",
    "<img src=\"assets/draw.PNG\" alt=\"Scatter Plot\" width=\"400\"/>\n",
    "<br>\n",
    "<div style=\"text-align:center\">\n",
    "    <span style=\"font-size:0.9em; font-weight: bold;\">Fig. 1. Scatter plot diagram.</span>\n",
    "</div>\n",
    "<br>\n",
    "\n",
    "The text file `assets/temperature.txt` contains a list of temperature conversion commands.\n",
    "The file format is as follows:\n",
    "* Two lines contain a conversion command, where\n",
    "* the first line defines the scale (`C` for Celsius and `F` for Fahrenheit), and;\n",
    "* the second line contains a floating-point number with the temperature in the given scale.\n",
    "\n",
    "For example, the first four lines of the given file contain:\n",
    "```\n",
    "F\n",
    "50\n",
    "C\n",
    "40\n",
    "```\n",
    "\n",
    "The goal is to process this file and execute the conversion commands, where\n",
    "* `F` means convert the next value from Fahrenheit to Celsius, and;\n",
    "* `C` means convert the next value from Celsius to Fahrenheit."
   ]
  },
  {
   "cell_type": "markdown",
   "id": "8b8d3496",
   "metadata": {},
   "source": [
    "## Task 1: Celsius to Fahrenheit and Back\n",
    "\n",
    "Define function `convert_temp` that converts temperatures from Celsius to Fahrenheit and vice-versa.\n",
    "It receives as arguments a temperature (`float`) and a unit (`str`, being either `'C'` or `'F'`).\n",
    "It returns a list where the first item is the converted temperature\n",
    "and the second item is the unit of the result.\n",
    "\n",
    "**Notes**:\n",
    "* Use the formula $1.8 c + 32$ to convert $c$ degrees Celsius to Fahrenheit.\n",
    "* Use the formula $\\frac{f - 32}{1.8}$ to convert $f$ degrees Fahrenheit to Celsius.\n",
    "* Do not forget to write the **type hints** and **docstring** of the function.\n",
    "* Include at least _four_ (4) `doctest` examples:\n",
    "  * 2 with `unit == 'C'`\n",
    "  * 2 with `unit == 'F'`\n",
    "\n",
    "**Examples**:\n",
    "\n",
    "*Input:*  \n",
    "```python\n",
    "convert_temp(0, 'C')\n",
    "```\n",
    "\n",
    "*Output:*  \n",
    "<pre>\n",
    "(32.0, 'F')\n",
    "</pre>"
   ]
  },
  {
   "cell_type": "code",
   "execution_count": 3,
   "id": "343015d5",
   "metadata": {
    "ExecuteTime": {
     "end_time": "2022-09-09T15:32:11.310960Z",
     "start_time": "2022-09-09T15:32:11.300974Z"
    }
   },
   "outputs": [
    {
     "data": {
      "text/plain": [
       "[32.0, 'C']"
      ]
     },
     "execution_count": 3,
     "metadata": {},
     "output_type": "execute_result"
    }
   ],
   "source": [
    "#// BEGIN_TODO [convert_temp] Convert between C and F (10 Points)\n",
    "\n",
    "def convert_temp(temperature:float,unit:str) ->list:\n",
    "    \"\"\"convert celsius to fahrenheit and vice-versa\n",
    "    \n",
    "    >>> convert_temp(10,\"C\")\n",
    "    (50.0, 'F')\n",
    "    >>> convert_temp(20,\"C\")\n",
    "    (68.0, 'F')\n",
    "    >>> convert_temp(50,\"F\")\n",
    "    (10.0, 'C')\n",
    "    >>> convert_temp(68,\"F\")\n",
    "    (20.0, 'C')\n",
    "    \"\"\"\n",
    "    my_list=[]\n",
    "    if unit == \"C\":\n",
    "        f = 1.8 * temperature + 32\n",
    "        my_list.append(round(f,1))\n",
    "        my_list.append(unit)\n",
    "    else:\n",
    "        c = (temperature - 32) / 1.8\n",
    "        my_list.append(round(c, 1))\n",
    "        my_list.append(unit)\n",
    "    return my_list\n",
    "\n",
    "#// END_TODO [convert_temp]\n",
    "\n",
    "convert_temp(0, 'C')"
   ]
  },
  {
   "cell_type": "code",
   "execution_count": 4,
   "id": "a6255610",
   "metadata": {
    "ExecuteTime": {
     "end_time": "2022-09-09T15:32:11.319924Z",
     "start_time": "2022-09-09T15:32:11.311960Z"
    }
   },
   "outputs": [
    {
     "name": "stdout",
     "output_type": "stream",
     "text": [
      "Finding tests in convert_temp\n",
      "Trying:\n",
      "    convert_temp(10,\"C\")\n",
      "Expecting:\n",
      "    (50.0, 'F')\n",
      "**********************************************************************\n",
      "File \"__main__\", line 6, in convert_temp\n",
      "Failed example:\n",
      "    convert_temp(10,\"C\")\n",
      "Expected:\n",
      "    (50.0, 'F')\n",
      "Got:\n",
      "    [50.0, 'C']\n",
      "Trying:\n",
      "    convert_temp(20,\"C\")\n",
      "Expecting:\n",
      "    (68.0, 'F')\n",
      "**********************************************************************\n",
      "File \"__main__\", line 8, in convert_temp\n",
      "Failed example:\n",
      "    convert_temp(20,\"C\")\n",
      "Expected:\n",
      "    (68.0, 'F')\n",
      "Got:\n",
      "    [68.0, 'C']\n",
      "Trying:\n",
      "    convert_temp(50,\"F\")\n",
      "Expecting:\n",
      "    (10.0, 'C')\n",
      "**********************************************************************\n",
      "File \"__main__\", line 10, in convert_temp\n",
      "Failed example:\n",
      "    convert_temp(50,\"F\")\n",
      "Expected:\n",
      "    (10.0, 'C')\n",
      "Got:\n",
      "    [10.0, 'F']\n",
      "Trying:\n",
      "    convert_temp(68,\"F\")\n",
      "Expecting:\n",
      "    (20.0, 'C')\n",
      "**********************************************************************\n",
      "File \"__main__\", line 12, in convert_temp\n",
      "Failed example:\n",
      "    convert_temp(68,\"F\")\n",
      "Expected:\n",
      "    (20.0, 'C')\n",
      "Got:\n",
      "    [20.0, 'F']\n"
     ]
    }
   ],
   "source": [
    "doctest.run_docstring_examples(convert_temp, globals(), verbose=True, name='convert_temp')"
   ]
  },
  {
   "cell_type": "markdown",
   "id": "f1b6d67b",
   "metadata": {
    "ExecuteTime": {
     "end_time": "2022-07-28T15:58:09.718053Z",
     "start_time": "2022-07-28T15:58:09.706054Z"
    }
   },
   "source": [
    "## Task 2: Convert Temperature Data\n",
    "\n",
    "Define the function `convert_data` that given a list of strings that has the same format as the text file `assets/temperature.txt` (e.g. `['F', '10', 'C', 40, ...]`), processes all the conversion commands (`F` for Fahrenheit to Celsius or `C` for Celsius to Fahrenheit) and prints (but does not return a value) the result using the format `.1f` (1 decimal) for the temperature values.\n",
    "\n",
    "To implement this function consider the following requirements:\n",
    "* Use function `convert_temp` for the temperature conversion.\n",
    "* Print the conversion with the following format `<old_value> <old_scale> = <new_value> <new_scale>`.\n",
    "* In case of an unrecognized command `x`, print `Bad command: '<x>'`.\n",
    "* In case of a bad temperature `t`, print `Bad temperature: '<t>'`.\n",
    "* In case the list does not end with a temperature, print `Missing temperature`.\n",
    "\n",
    "**Notes**:\n",
    "* Do not forget to write the **type hints** and **docstring** of the function.\n",
    "* Include at least _five_ (5) `doctest` examples:\n",
    "  * 1 with `Bad temperature`\n",
    "  * 1 with `Bad command`\n",
    "  * 1 with `Missing temperature`\n",
    "  * 1 with an empty list: `[]`\n",
    "  * 2 with both correct temperature and correct command\n",
    "\n",
    "**Examples**:\n",
    "\n",
    "*Input:*  \n",
    "```python\n",
    "convert_data(['F', '10', 'C', '40', 'S', '60', 'C', '40-', 'F'])\n",
    "```\n",
    "\n",
    "*Output:*  \n",
    "<pre>\n",
    "10.0 F = -12.2 C\n",
    "40.0 C = 104.0 F\n",
    "Bad command: 'S'\n",
    "Bad temperature: '40-'\n",
    "Missing temperature\n",
    "</pre>\n",
    "*(function does not return a value, but should `print` the above-mentioned values.)*"
   ]
  },
  {
   "cell_type": "code",
   "execution_count": 5,
   "id": "7c58aeee",
   "metadata": {
    "ExecuteTime": {
     "end_time": "2022-09-09T15:32:11.328908Z",
     "start_time": "2022-09-09T15:32:11.320920Z"
    }
   },
   "outputs": [
    {
     "name": "stdout",
     "output_type": "stream",
     "text": [
      "10.0 F = -12.2 F\n",
      "40.0 C = 104.0 C\n",
      "Bad command: 'S'\n",
      "Bad temperature: '40-'\n",
      "Missing temperature\n"
     ]
    }
   ],
   "source": [
    "#// BEGIN_TODO [convert_data] Convert temperature data (30 Points)\n",
    "\n",
    "def convert_data(file:list) ->None:\n",
    "    \"\"\"convert data through convert_temp function\n",
    "    \n",
    "    >>> convert_data(['F', '10-'])\n",
    "    Bad temperature: '10-'\n",
    "    >>> convert_data(['G', '10'])\n",
    "    Bad command: 'G'\n",
    "    >>> convert_data(['F'])\n",
    "    Missing temperature\n",
    "    >>> convert_data([])\n",
    "    \n",
    "    >>> convert_data(['F', '10', 'C', '40'])\n",
    "    10.0 F = -12.2 C\n",
    "    40.0 C = 104.0 F\n",
    "    \"\"\"\n",
    "    unit = 0\n",
    "    temp = 1\n",
    "    while temp <= len(file):\n",
    "        whether_or_not=0\n",
    "        if temp==len(file):\n",
    "            print(\"Missing temperature\")\n",
    "            temp += 2\n",
    "            continue\n",
    "        float_=\"default\"\n",
    "        try:\n",
    "            float_=float(file[temp])\n",
    "        except ValueError:\n",
    "            pass\n",
    "        if file[unit] != \"C\" and file[unit] != \"F\":\n",
    "            print(\"Bad command: '\"+file[unit]+\"'\")\n",
    "            whether_or_not=1\n",
    "        if not isinstance(float_,float):\n",
    "            print(\"Bad temperature: '\"+file[temp]+\"'\")\n",
    "            whether_or_not=1\n",
    "        if whether_or_not == 0:\n",
    "            convert=convert_temp(float(file[temp]),file[unit])\n",
    "            print(\"%.1f\"%float(file[temp]),file[unit],\"=\",\"%.1f\"%float(convert[0]),convert[1])\n",
    "        unit += 2\n",
    "        temp += 2\n",
    "#// END_TODO [convert_data]\n",
    "\n",
    "convert_data(['F', '10', 'C', '40', 'S', '60', 'C', '40-', 'F'])"
   ]
  },
  {
   "cell_type": "code",
   "execution_count": 6,
   "id": "5fd920b9",
   "metadata": {
    "ExecuteTime": {
     "end_time": "2022-09-09T15:32:11.336902Z",
     "start_time": "2022-09-09T15:32:11.330894Z"
    }
   },
   "outputs": [
    {
     "name": "stdout",
     "output_type": "stream",
     "text": [
      "Finding tests in convert_data\n",
      "Trying:\n",
      "    convert_data(['F', '10-'])\n",
      "Expecting:\n",
      "    Bad temperature: '10-'\n",
      "ok\n",
      "Trying:\n",
      "    convert_data(['G', '10'])\n",
      "Expecting:\n",
      "    Bad command: 'G'\n",
      "ok\n",
      "Trying:\n",
      "    convert_data(['F'])\n",
      "Expecting:\n",
      "    Missing temperature\n",
      "ok\n",
      "Trying:\n",
      "    convert_data([])\n",
      "Expecting nothing\n",
      "ok\n",
      "Trying:\n",
      "    convert_data(['F', '10', 'C', '40'])\n",
      "Expecting:\n",
      "    10.0 F = -12.2 C\n",
      "    40.0 C = 104.0 F\n",
      "**********************************************************************\n",
      "File \"__main__\", line 14, in convert_data\n",
      "Failed example:\n",
      "    convert_data(['F', '10', 'C', '40'])\n",
      "Expected:\n",
      "    10.0 F = -12.2 C\n",
      "    40.0 C = 104.0 F\n",
      "Got:\n",
      "    10.0 F = -12.2 F\n",
      "    40.0 C = 104.0 C\n"
     ]
    }
   ],
   "source": [
    "doctest.run_docstring_examples(convert_data, globals(), verbose=True, name='convert_data')"
   ]
  },
  {
   "cell_type": "markdown",
   "id": "6ec98488",
   "metadata": {},
   "source": [
    "## Task 3: Process Text File\n",
    "\n",
    "Now that we have created a function to convert between Celsius and Fahrenheit we can start with loading in the `temperature.txt` which contains the temperatures that we would like to convert. In order to do this, write some code that:\n",
    "* Opens the text file whose file name is given by `FILE_NAME`,\n",
    "* reads it line by line and strips any leading and trailing _whitespace_ from all its lines,\n",
    "* and then processes the stripped lines using your earlier defined `convert_data` function.\n",
    "\n",
    "**Notes**:\n",
    "* In our test frame, we may assign different values to `FILE_NAME`.\n",
    "\n",
    "**Examples**:\n",
    "\n",
    "*Output:*  \n",
    "<pre>\n",
    "50.0 F =    10.0 C\n",
    "40.0 C =   104.0 F\n",
    "Bad temperature: '40-'\n",
    "20.0 C =    68.0 F\n",
    "Bad command: ''\n",
    "0.0 F =   -17.8 C\n",
    "-32.0 C =   -25.6 F\n",
    "Bad command: 'H'\n",
    "104.0 F =    40.0 C\n",
    "Bad command: ''\n",
    "Bad temperature: ''\n",
    "15.0 F =    -9.4 C\n",
    "Bad command: '30'\n",
    "Bad temperature: 'C'\n",
    "100.0 C =   212.0 F\n",
    "</pre>"
   ]
  },
  {
   "cell_type": "code",
   "execution_count": 7,
   "id": "fe5a7787",
   "metadata": {
    "ExecuteTime": {
     "end_time": "2022-09-09T15:32:11.342867Z",
     "start_time": "2022-09-09T15:32:11.338881Z"
    }
   },
   "outputs": [
    {
     "name": "stdout",
     "output_type": "stream",
     "text": [
      "50.0 F = 10.0 F\n",
      "40.0 C = 104.0 C\n",
      "Bad temperature: '40-'\n",
      "20.0 C = 68.0 C\n",
      "Bad command: ''\n",
      "0.0 F = -17.8 F\n",
      "-32.0 C = -25.6 C\n",
      "Bad command: 'H'\n",
      "104.0 F = 40.0 F\n",
      "Bad command: ''\n",
      "Bad temperature: ''\n",
      "15.0 F = -9.4 F\n",
      "Bad command: '30'\n",
      "Bad temperature: 'C'\n",
      "100.0 C = 212.0 C\n"
     ]
    }
   ],
   "source": [
    "FILE_NAME = 'assets/temperature.txt'\n",
    "all_data = []\n",
    "\n",
    "#// BEGIN_TODO [process_file] Process commands in text file (5 Points)\n",
    "\n",
    "content = open('assets/temperature.txt')\n",
    "for line in content:\n",
    "    element = line.rstrip()\n",
    "    all_data.append(element)\n",
    "    \n",
    "\n",
    "#// END_TODO [process_file]\n",
    "\n",
    "convert_data(all_data)"
   ]
  },
  {
   "cell_type": "markdown",
   "id": "93200b09",
   "metadata": {},
   "source": [
    "## Task 4: Process User Input \n",
    "\n",
    "Now, we want to let Nastaran and Sam repeatedly insert a temperature conversion command as a **string input**. \n",
    "The format of each string input is as follows:\n",
    "* The input contains a **temperature** as a floating-point number followed by a **space**, and\n",
    "* the **scale** (`C` for Celsius and `F` for Fahrenheit).\n",
    "\n",
    "For example, a correct string input is `50 F` or `20 C`.\n",
    "\n",
    "Define the function `process_input_value` that repeatedly reads each string input. \n",
    "Then, the program converts the temperature and prints (but does not return a value) the result using the format `.1f` (1 decimal) for the temperature values.\n",
    "\n",
    "To implement this function consider the following requirements:\n",
    "* Use function `convert_temp` for the temperature conversion.\n",
    "* Print the conversion with the following format `<old_value> <old_scale> = <new_value> <new_scale>`.\n",
    "* In case of an unrecognized command `x`, print `Bad command: '<x>'`.\n",
    "* In case of a bad temperature `t`, print `Bad temperature: '<t>'`.\n",
    "* In case the string input does not start with a temperature, print `Missing temperature`.\n",
    "* In case the string input does not end with a command, print `Missing command`.\n",
    "\n",
    "\n",
    "**Notes**:\n",
    "* Do not forget to write the **type hints** and **docstring** of the function.\n",
    "* We will test your program with all possible input values.\n",
    "* The program is terminated if the user input is `q` or `quit`.\n",
    "* Include at least _eight_ (8) `doctest` examples.\n",
    "\n",
    "**Examples**:\n",
    "\n",
    "| Input | Output |\n",
    "| :- | :- |\n",
    "| 50 C | 50.0 C = 122.0 F |\n",
    "| Ten C | Bad temperature: 'Ten' |\n",
    "| 50 H | Bad command: 'H' |\n",
    "| 50 < space > | Bad command: ' ' |"
   ]
  },
  {
   "cell_type": "code",
   "execution_count": 8,
   "id": "434dc051",
   "metadata": {
    "ExecuteTime": {
     "end_time": "2022-09-09T15:32:13.210567Z",
     "start_time": "2022-09-09T15:32:11.344857Z"
    }
   },
   "outputs": [
    {
     "name": "stdout",
     "output_type": "stream",
     "text": [
      "Insert a temperature conversion command: q\n"
     ]
    }
   ],
   "source": [
    "#// BEGIN_TODO [process_input_value] Convert temperature input data (30 Points)\n",
    "\n",
    "def process_input_value(tem_plus_unit:str) ->None:\n",
    "    \"\"\"print the convert of C and F\n",
    "    \n",
    "    >>> process_input_value(\"50 C\")\n",
    "    50.0 C = 122.0 F\n",
    "    >>> process_input_value(\"Ten C\")\n",
    "    Bad temperature: 'Ten'\n",
    "    >>> process_input_value(\"50 H\")\n",
    "    Bad command: 'H'\n",
    "    >>> process_input_value(\"\")\n",
    "    Missing temperature\n",
    "    >>> process_input_value(\"23\")\n",
    "    Missing command\n",
    "    >>> process_input_value(\"50 F\")\n",
    "    50.0 F = 10.0 C\n",
    "    >>> process_input_value(\"H 50\")\n",
    "    Bad command: '50'\n",
    "    Bad temperature: 'H'\n",
    "    >>> process_input_value(\"A 20\")\n",
    "    Bad command: '20'\n",
    "    Bad temperature: 'A'\n",
    "    \"\"\"\n",
    "    float_ = \"test\"\n",
    "    element = tem_plus_unit.split()\n",
    "    whether_or_not = 1\n",
    "    if len(element) < 1:\n",
    "        print(\"Missing temperature\")\n",
    "        return None\n",
    "    if len(element) < 2:\n",
    "        print(\"Missing command\")\n",
    "        return None\n",
    "    try:\n",
    "        float_ = float(element[0])\n",
    "    except ValueError:\n",
    "        pass\n",
    "    command = str(element[1])\n",
    "    if command != \"C\" and command != \"F\":\n",
    "        print(\"Bad command: '\"+command+\"'\")\n",
    "        whether_or_not = 0\n",
    "    if not isinstance(float_,float):\n",
    "        print(\"Bad temperature: '\"+element[0]+\"'\")\n",
    "        whether_or_not = 0\n",
    "    if whether_or_not:\n",
    "        convert=convert_temp(float_,command)\n",
    "        print(\"%.1f\"%float_,command, \"=\",\"%.1f\"%float(convert[0]),convert[1])\n",
    "        \n",
    "#// END_TODO [process_input_value]\n",
    "        \n",
    "prompt = \"Insert a temperature conversion command: \"\n",
    "while True:\n",
    "    inp = input(prompt)\n",
    "    if(inp.lower() == \"quit\" or inp.lower() == \"q\"):\n",
    "        break\n",
    "    process_input_value(inp)"
   ]
  },
  {
   "cell_type": "code",
   "execution_count": 9,
   "id": "de75345a",
   "metadata": {
    "ExecuteTime": {
     "end_time": "2022-09-09T15:32:13.219533Z",
     "start_time": "2022-09-09T15:32:13.211553Z"
    }
   },
   "outputs": [
    {
     "name": "stdout",
     "output_type": "stream",
     "text": [
      "Finding tests in process_input_value\n",
      "Trying:\n",
      "    process_input_value(\"50 C\")\n",
      "Expecting:\n",
      "    50.0 C = 122.0 F\n",
      "**********************************************************************\n",
      "File \"__main__\", line 6, in process_input_value\n",
      "Failed example:\n",
      "    process_input_value(\"50 C\")\n",
      "Expected:\n",
      "    50.0 C = 122.0 F\n",
      "Got:\n",
      "    50.0 C = 122.0 C\n",
      "Trying:\n",
      "    process_input_value(\"Ten C\")\n",
      "Expecting:\n",
      "    Bad temperature: 'Ten'\n",
      "ok\n",
      "Trying:\n",
      "    process_input_value(\"50 H\")\n",
      "Expecting:\n",
      "    Bad command: 'H'\n",
      "ok\n",
      "Trying:\n",
      "    process_input_value(\"\")\n",
      "Expecting:\n",
      "    Missing temperature\n",
      "ok\n",
      "Trying:\n",
      "    process_input_value(\"23\")\n",
      "Expecting:\n",
      "    Missing command\n",
      "ok\n",
      "Trying:\n",
      "    process_input_value(\"50 F\")\n",
      "Expecting:\n",
      "    50.0 F = 10.0 C\n",
      "**********************************************************************\n",
      "File \"__main__\", line 16, in process_input_value\n",
      "Failed example:\n",
      "    process_input_value(\"50 F\")\n",
      "Expected:\n",
      "    50.0 F = 10.0 C\n",
      "Got:\n",
      "    50.0 F = 10.0 F\n",
      "Trying:\n",
      "    process_input_value(\"H 50\")\n",
      "Expecting:\n",
      "    Bad command: '50'\n",
      "    Bad temperature: 'H'\n",
      "ok\n",
      "Trying:\n",
      "    process_input_value(\"A 20\")\n",
      "Expecting:\n",
      "    Bad command: '20'\n",
      "    Bad temperature: 'A'\n",
      "ok\n"
     ]
    }
   ],
   "source": [
    "doctest.run_docstring_examples(process_input_value, globals(), verbose=True, name='process_input_value')"
   ]
  },
  {
   "cell_type": "markdown",
   "id": "3f520c4a",
   "metadata": {},
   "source": [
    "## Task 5: Drawing a Scatter Plot\n",
    "\n",
    "To improve the demonstration of the initial and converted values for Nastaran and Sam, we want to draw a Scatter Plot Diagram to represent the relationship between the values, and to show how the change in one value affects the other one. \n",
    "\n",
    "### 5.1: all valid and converted data \n",
    "\n",
    "First, define a function called `create_valid_data` that: \n",
    "* takes the list `all_data` (which is defined in task 3) as an argument, \n",
    "* removes all invalid temperatures and commands, and \n",
    "* return a list called `valid_data`, including all valid temperatures and commands.\n",
    "\n",
    "Second, define a function called `convert_valid_data`, that:\n",
    "* takes the function `create_valid_data` as an argument,\n",
    "* uses function `convert_temp` for the temperature conversion of the temperatures in the list `valid_data`, and\n",
    "* returns a list called `converted_data`, including all converted temperatures and their units (F or C).\n",
    "\n",
    "**Notes**:\n",
    "* You should invoke the function `create_valid_data` inside the function `convert_valid_data`.\n",
    "* Do not forget to write the **type hints** and **docstring** of the function.\n",
    "\n",
    "**Examples**:\n",
    "\n",
    "*Input:*  \n",
    "```python\n",
    "['F', '50', 'C', '40', 'F', '40-', 'C', '20', '', '40', 'F', '0.0', 'C', '-32', 'H', '50', 'F', '104', '', '', 'F', '15', '30', 'C', 'C', '100']\n",
    "```\n",
    "\n",
    "*Output:*  \n",
    "<pre>\n",
    "['C', 10.0, 'F', 104.0, 'F', 68.0, 'C', -17.8, 'F', -25.6, 'C', 40.0, 'C', -9.4, 'F', 212.0]\n",
    "</pre>"
   ]
  },
  {
   "cell_type": "code",
   "execution_count": 10,
   "id": "4d0a9d1b",
   "metadata": {
    "ExecuteTime": {
     "end_time": "2022-09-09T15:32:13.229629Z",
     "start_time": "2022-09-09T15:32:13.220529Z"
    }
   },
   "outputs": [
    {
     "name": "stdout",
     "output_type": "stream",
     "text": [
      "['F', 10.0, 'C', 104.0, 'C', 68.0, 'F', -17.8, 'C', -25.6, 'F', 40.0, 'F', -9.4, 'C', 212.0]\n"
     ]
    }
   ],
   "source": [
    "#// BEGIN_TODO [valid_data] List all valid and coverted data (25 Points)\n",
    "\n",
    "def create_valid_data(lst:list) ->list:\n",
    "    \"\"\"get the valid data\n",
    "    \"\"\"\n",
    "    unit = 0\n",
    "    temp = 1\n",
    "    while temp <= len(lst):\n",
    "        whether_or_not=0\n",
    "        if temp==len(lst):\n",
    "            lst.pop(temp)\n",
    "            unit += 2\n",
    "            temp += 2\n",
    "            continue\n",
    "        float_=\"default\"\n",
    "        try:\n",
    "            float_=float(lst[temp])\n",
    "        except ValueError:\n",
    "            pass\n",
    "        if lst[unit] != \"C\" and lst[unit] != \"F\":\n",
    "            whether_or_not=1\n",
    "        if not isinstance(float_,float):\n",
    "            whether_or_not=1\n",
    "        if whether_or_not:\n",
    "            del lst[unit:temp+1]\n",
    "            continue\n",
    "        unit += 2\n",
    "        temp += 2\n",
    "    valid_data=lst\n",
    "    return valid_data\n",
    "\n",
    "def convert_valid_data(f:int) ->list:\n",
    "    \"\"\"convert the valid data\n",
    "    \"\"\"\n",
    "    origin=f(all_data)\n",
    "    unit1 = 0\n",
    "    temp1 = 1\n",
    "    converted_data = []\n",
    "    while temp1 < len(origin):\n",
    "        convert=convert_temp(float(origin[temp1]),origin[unit1])\n",
    "        converted_data.append(convert[1])\n",
    "        converted_data.append(convert[0])\n",
    "        unit1 += 2\n",
    "        temp1 += 2\n",
    "    return converted_data\n",
    "\n",
    "#// END_TODO [valid_data]\n",
    "\n",
    "print(convert_valid_data(create_valid_data))"
   ]
  },
  {
   "cell_type": "markdown",
   "id": "a6234e91",
   "metadata": {},
   "source": [
    "### 5.2: drawing (10 bonus points)\n",
    "\n",
    "Finally, define a function called `scatter_plot` that: \n",
    "* Takes the two functions, `create_valid_data` and `convert_valid_data`, as two arguments, and\n",
    "* draws a Scatter Plot diagram, in which the x-axis represents all values in Fahrenheit and the y-axis represents all values in Celsius.\n",
    "\n",
    "\n",
    "**Notes**:\n",
    "* You should invoke two functions, `create_valid_data` and `convert_valid_data`, inside the function `scatter_plot` to get access to the list of all valid data and all converted valid data, respectively.\n",
    "* To draw the Scatter Plot diagram, we use the **Matplotlib** library, which has the `scatter()` method. This method needs two arrays of the same length for the x-axis and y-axis. You can invoke the Matplotlib library functions by typing `plt.<function_name_here>()`.\n",
    "* Label both x-axis and y-axis.\n",
    "* Do not forget to write the **type hints** and **docstring** of the function.\n",
    "\n",
    "**Examples**:\n",
    "\n",
    "*Input:*  \n",
    "```python\n",
    "scatter_plot(create_valid_data, convert_valid_data)\n",
    "```\n",
    "\n",
    "*Output:*  \n",
    "<pre>\n",
    "None\n",
    "</pre>\n",
    "*(function does not return a value, but should draw a graph within your notebook similar to when you use `print`)*"
   ]
  },
  {
   "cell_type": "code",
   "execution_count": 11,
   "id": "1742ebf9",
   "metadata": {
    "ExecuteTime": {
     "end_time": "2022-09-09T15:32:13.653095Z",
     "start_time": "2022-09-09T15:32:13.238482Z"
    }
   },
   "outputs": [
    {
     "data": {
      "image/png": "[encoded data removed]",
      "text/plain": [
       "<Figure size 432x288 with 1 Axes>"
      ]
     },
     "metadata": {
      "needs_background": "light"
     },
     "output_type": "display_data"
    }
   ],
   "source": [
    "import matplotlib.pyplot as plt\n",
    "\n",
    "#// BEGIN_TODO [scatter_plot] Drawing scotter plot (10 Bonus Points)\n",
    "\n",
    "def scatter_plot(f:int,g:int) ->None:\n",
    "    \"\"\"draw a scatter plot\n",
    "    \"\"\"\n",
    "    index = 0\n",
    "    valid = f(all_data)\n",
    "    convert_valid = g(create_valid_data)\n",
    "    while index < len(valid):\n",
    "        if valid[index] == \"F\":\n",
    "            valid[index+1],convert_valid[index+1]=convert_valid[index+1],valid[index+1]\n",
    "        valid.pop(index)\n",
    "        valid[index]=float(valid[index])\n",
    "        convert_valid.pop(index)\n",
    "        convert_valid[index]=float(convert_valid[index])\n",
    "        index += 1\n",
    "                \n",
    "    plt.figure()\n",
    "    plt.title(\"Temperature Conversion\")\n",
    "    plt.ylabel(\"Celsius\")\n",
    "    plt.xlabel(\"Fahrenheit\")\n",
    "    plt.scatter(convert_valid,valid)\n",
    "    plt.show()\n",
    "    \n",
    "#// END_TODO [scatter_plot]\n",
    "\n",
    "scatter_plot(create_valid_data, convert_valid_data)"
   ]
  },
  {
   "cell_type": "markdown",
   "id": "60a91f0f",
   "metadata": {},
   "source": [
    "---\n",
    "\n",
    "## (End of Notebook)\n",
    "\n",
    "&copy; 2022 - **TU/e** - Eindhoven University of Technology"
   ]
  }
 ],
 "metadata": {
  "anaconda-cloud": {},
  "kernelspec": {
   "display_name": "Python 3",
   "language": "python",
   "name": "python3"
  },
  "language_info": {
   "codemirror_mode": {
    "name": "ipython",
    "version": 3
   },
   "file_extension": ".py",
   "mimetype": "text/x-python",
   "name": "python",
   "nbconvert_exporter": "python",
   "pygments_lexer": "ipython3",
   "version": "3.8.8"
  },
  "toc": {
   "base_numbering": 1,
   "nav_menu": {},
   "number_sections": true,
   "sideBar": true,
   "skip_h1_title": false,
   "title_cell": "Table of Contents",
   "title_sidebar": "Contents",
   "toc_cell": false,
   "toc_position": {},
   "toc_section_display": true,
   "toc_window_display": false
  }
 },
 "nbformat": 4,
 "nbformat_minor": 5
}
