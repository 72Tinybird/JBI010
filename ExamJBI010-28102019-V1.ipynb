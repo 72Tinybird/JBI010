{
 "cells": [
  {
   "cell_type": "markdown",
   "metadata": {
    "pycharm": {
     "name": "#%% md\n"
    }
   },
   "source": [
    "# Exam for JBI010 (Programming for Data Science)\n",
    "\n",
    "## 28th October 2019\n",
    "\n",
    "This exam consists of 10 questions. The maximum amount of points you can score by answering\n",
    "the questions correctly is 90 points. You get 10 bonus points.\n",
    "\n",
    "Please use the cells below the question to enter your answers. See the instruction sheet for information on how to submit this Jupyter notebook when you are finished."
   ]
  },
  {
   "cell_type": "markdown",
   "metadata": {
    "pycharm": {
     "name": "#%% md\n"
    }
   },
   "source": [
    "#### For grading:\n",
    "\n",
    "| Exercise | 1 | 2 | 3 | 4 | 5 | 6 | 7 | 8 | 9 | 10 |\n",
    "|----------|---|---|---|---|---|---|---|---|---|----|\n",
    "| Score    |   |   |   |   |   |   |   |   |   |    |"
   ]
  },
  {
   "cell_type": "markdown",
   "metadata": {
    "pycharm": {
     "name": "#%% md\n"
    }
   },
   "source": [
    "Enter your full name and TU/e identification number: \n",
    "\n",
    "**Full Name**: \n",
    "\n",
    "**TU/e ID Number**: "
   ]
  },
  {
   "cell_type": "markdown",
   "metadata": {
    "pycharm": {
     "name": "#%% md\n"
    }
   },
   "source": [
    "## 1. (5 points)\n",
    "\n",
    "Consider the following code.\n",
    "\n",
    "``` Python\n",
    "def square(num):\n",
    "    \"\"\" Returns the square of the integer num\n",
    "    >>> square(3)\n",
    "    9\n",
    "    \"\"\"\n",
    "```\n",
    "\n",
    "In the following table, fill in the **Example** column by writing `square`, `num`, `square(3)`, and `3` next to the appropriate description."
   ]
  },
  {
   "cell_type": "markdown",
   "metadata": {
    "pycharm": {
     "name": "#%% md\n"
    }
   },
   "source": [
    "| Description | Example |\n",
    "|-------------|---------|\n",
    "| Parameter   |         |\n",
    "| Argument    |         |\n",
    "| Function name |        |\n",
    "| Function call |        |\n"
   ]
  },
  {
   "cell_type": "markdown",
   "metadata": {
    "pycharm": {
     "name": "#%% md\n"
    }
   },
   "source": [
    "Write the body of the `square` function, add the appropriate type hints, and add a test for a negative argument."
   ]
  },
  {
   "cell_type": "code",
   "execution_count": 1,
   "metadata": {
    "pycharm": {
     "name": "#%%\n"
    }
   },
   "outputs": [
    {
     "name": "stdout",
     "output_type": "stream",
     "text": [
      "Finding tests in square\n",
      "Trying:\n",
      "    square(3)\n",
      "Expecting:\n",
      "    9\n",
      "ok\n",
      "Trying:\n",
      "    square(-3)\n",
      "Expecting:\n",
      "    9\n",
      "ok\n"
     ]
    }
   ],
   "source": [
    "import doctest\n",
    "\n",
    "# Write here your Python code, including an additional test.\n",
    "\n",
    "def square(num: int) -> int:\n",
    "    \"\"\" Returns the square of the integer num\n",
    "    >>> square(3)\n",
    "    9\n",
    "    >>> square(-3)\n",
    "    9\n",
    "    \"\"\"\n",
    "    \n",
    "    return num * num\n",
    "    \n",
    "square(4) == 16\n",
    "\n",
    "doctest.run_docstring_examples(square, globals(), verbose=True, name='square')"
   ]
  },
  {
   "cell_type": "markdown",
   "metadata": {
    "pycharm": {
     "name": "#%% md\n"
    }
   },
   "source": [
    "## 2. (5 points)\n",
    "\n",
    "You want an automatic wildlife camera to switch on if the light level is less than 0.01 lux or if the temperature is above freezing. But not if both conditions are true.\n",
    "\n",
    "Your first attempt to write this is as follows:\n",
    "\n",
    "``` Python\n",
    "if (light < 0.01) or (temperature > 0.0):\n",
    "    if not ((light < 0.01) and (temperature > 0.0)):\n",
    "        turn_camera_on()\n",
    "```\n",
    "Assume `turn_camera_on()` is available. \n",
    "\n",
    "A friend says that this can be written more compactly:\n",
    "\n",
    "``` Python\n",
    "if (light < 0.01) != (temperature > 0.0):\n",
    "    turn_camera_on()\n",
    "```"
   ]
  },
  {
   "cell_type": "markdown",
   "metadata": {
    "pycharm": {
     "name": "#%% md\n"
    }
   },
   "source": [
    "Is your friend right? If so, explain why. If not, give values to the `light` and `temperature` variables that will produce different results for the two fragments of code.\n",
    "\n",
    "Answer:\n",
    "\n",
    "yes, my friend is right. The simplified code is equivalent to an XOR function, which is described by the truth table below:\n",
    "\n",
    "\n",
    "| light < 0.01  | temperature > 0 | result |\n",
    "|---------------|-----------------|--------|\n",
    "| True          | True      | False  |\n",
    "| True          | False     | True  |\n",
    "| False         | True       | True   |\n",
    "| False         | False           | False  |"
   ]
  },
  {
   "cell_type": "markdown",
   "metadata": {
    "pycharm": {
     "name": "#%% md\n"
    }
   },
   "source": [
    "## 3. (5 points)\n",
    "\n",
    "The following code displays (a) message(s) about the acidity of a solution:\n",
    "\n",
    "``` Python\n",
    "ph = float(input(\"Enter the ph level: \"))\n",
    "if ph < 7.0:\n",
    "    print(\"It's acidic!\")\n",
    "elif ph < 4.0:\n",
    "    print(\"It's a strong acidic!\")\n",
    "```\n"
   ]
  },
  {
   "cell_type": "markdown",
   "metadata": {
    "pycharm": {
     "name": "#%% md\n"
    }
   },
   "source": [
    "a. What message(s) are displayed when the user enters 6.4?\n",
    "\n",
    "Answer:\n",
    "\n",
    "\"It's acidic!\"\n",
    "\n",
    "b. What message(s) are displayed when the user enters 3.6?\n",
    "\n",
    "Answer:\n",
    "\n",
    "\n",
    "\"It's acidic!\"\n",
    "\n",
    "c. Make a small change to one line of the code so that both messages are displayed when a value less than 4 is entered."
   ]
  },
  {
   "cell_type": "code",
   "execution_count": 2,
   "metadata": {
    "pycharm": {
     "name": "#%%\n"
    }
   },
   "outputs": [
    {
     "name": "stdout",
     "output_type": "stream",
     "text": [
      "Enter the ph level: 2\n",
      "It's acidic!\n",
      "It's a strong acidic!\n"
     ]
    }
   ],
   "source": [
    "# Write here your Python code.\n",
    "\n",
    "# Write here your Python code.\n",
    "ph = float(input(\"Enter the ph level: \"))\n",
    "if ph < 7.0:\n",
    "    print(\"It's acidic!\")\n",
    "if ph < 4.0:\n",
    "    print(\"It's a strong acidic!\")"
   ]
  },
  {
   "cell_type": "markdown",
   "metadata": {
    "pycharm": {
     "name": "#%% md\n"
    }
   },
   "source": [
    "## 4. (5 points)\n",
    "\n",
    "A palindrome is a word that can be read both from left to right and right to left,  \"racecar\" is an example\n",
    "of a palindrome. Write a function that checks whether\n",
    "a list (not a word) is a \"palindrome\", so that going from left to right through the list, you should encounter the same elements as going from right to left through the list. \n",
    "\n",
    "**Begin Susana** We can include an example, although we would be giving away some test examples. \n",
    "\n",
    "For instance the list `[1, 2, 3, 2, 1]` is a palindrome, while the list `[1, 2, 3, 4, 1]` is not a palindrome. \n",
    "**End Susana**\n",
    "\n",
    "\n",
    "Complete the following function body and the four tests included that will generate the specified output.\n",
    "\n",
    "The tests should be different and cover all parts of the implementation.\n",
    "\n",
    "``` Python\n",
    "def is_list_palindrome(lst : List) -> bool:\n",
    "    \"\"\" Returns True if the elements of the list form a palindrome\n",
    "    \n",
    "    >>> is_list_palindrome(...)\n",
    "    True\n",
    "    >>> is_list_palindrome(...)\n",
    "    True\n",
    "    >>> is_list_palindrome(...)\n",
    "    True\n",
    "    >>> is_list_palindrome(...)\n",
    "    False\n",
    "    \"\"\"\n",
    "    ...\n",
    "```"
   ]
  },
  {
   "cell_type": "code",
   "execution_count": 3,
   "metadata": {
    "pycharm": {
     "name": "#%%\n"
    }
   },
   "outputs": [
    {
     "name": "stdout",
     "output_type": "stream",
     "text": [
      "Finding tests in is_list_palindrome\n",
      "Trying:\n",
      "    is_list_palindrome([])\n",
      "Expecting:\n",
      "    True\n",
      "ok\n",
      "Trying:\n",
      "    is_list_palindrome([1])\n",
      "Expecting:\n",
      "    True\n",
      "ok\n",
      "Trying:\n",
      "    is_list_palindrome([1, 2, 1, 3, 3, 1, 2, 1])\n",
      "Expecting:\n",
      "    True\n",
      "ok\n",
      "Trying:\n",
      "    is_list_palindrome([1, 2, 1, 3, 4, 1, 2, 1])\n",
      "Expecting:\n",
      "    False\n",
      "ok\n",
      "Finding tests in is_list_palindrome\n",
      "Trying:\n",
      "    is_list_palindrome([])\n",
      "Expecting:\n",
      "    True\n",
      "ok\n",
      "Trying:\n",
      "    is_list_palindrome([1])\n",
      "Expecting:\n",
      "    True\n",
      "ok\n",
      "Trying:\n",
      "    is_list_palindrome([1, 2, 1, 3, 3, 1, 2, 1])\n",
      "Expecting:\n",
      "    True\n",
      "ok\n",
      "Trying:\n",
      "    is_list_palindrome([1, 2, 1, 3, 4, 1, 2, 1])\n",
      "Expecting:\n",
      "    False\n",
      "ok\n"
     ]
    }
   ],
   "source": [
    "import doctest\n",
    "from typing import List\n",
    "\n",
    "# Write here your Python code.\n",
    "\n",
    "\n",
    "def is_list_palindrome(lst : List) -> bool:\n",
    "    \"\"\" Returns True if the elements of the list form a palindrome\n",
    "\n",
    "    >>> is_list_palindrome([])\n",
    "    True\n",
    "    >>> is_list_palindrome([1])\n",
    "    True\n",
    "    >>> is_list_palindrome([1, 2, 1, 3, 3, 1, 2, 1])\n",
    "    True\n",
    "    >>> is_list_palindrome([1, 2, 1, 3, 4, 1, 2, 1])\n",
    "    False\n",
    "    \"\"\"\n",
    "    \n",
    "    if (len(lst) <= 1):\n",
    "        return True\n",
    "    else:\n",
    "        for i in range(len(lst)):\n",
    "            if lst[i] != lst[(len(lst) - 1) - i]:\n",
    "                return False\n",
    "        return True\n",
    "\n",
    "doctest.run_docstring_examples(is_list_palindrome, globals(), verbose=True, name='is_list_palindrome')\n",
    "# is_list_palindrome([1, 2, 1, 3,4, 1,2, 1])\n",
    "\n",
    "doctest.run_docstring_examples(is_list_palindrome, globals(), verbose=True, name='is_list_palindrome')"
   ]
  },
  {
   "cell_type": "markdown",
   "metadata": {
    "pycharm": {
     "name": "#%% md\n"
    }
   },
   "source": [
    "## 5. (5 points)\n",
    "\n",
    "Consider the code in the next cell. Run the cell and consider the resulting list.  "
   ]
  },
  {
   "cell_type": "code",
   "execution_count": 4,
   "metadata": {
    "pycharm": {
     "name": "#%%\n"
    }
   },
   "outputs": [
    {
     "name": "stdout",
     "output_type": "stream",
     "text": [
      "[9, -4, 4]\n"
     ]
    }
   ],
   "source": [
    "from typing import List\n",
    "\n",
    "def remove_neg(num_list : List[int]) -> None:\n",
    "    \"\"\" Removes the negative numbers from the list num_list.\n",
    "    \n",
    "    >>> numbers = [-5, 1, -3, 2]\n",
    "    >>> remove_neg(numbers)\n",
    "    >>> numbers\n",
    "    [1, 2]\n",
    "    \"\"\"\n",
    "    \n",
    "    for item in num_list:\n",
    "        if item < 0:\n",
    "            num_list.remove(item)\n",
    "\n",
    "numbers = [9, -3, -4, 4]\n",
    "remove_neg(numbers)\n",
    "print(numbers)"
   ]
  },
  {
   "cell_type": "markdown",
   "metadata": {
    "pycharm": {
     "name": "#%% md\n"
    }
   },
   "source": [
    "Explain why the code is incorrect.\n",
    "\n",
    "Answer:\n",
    "\n",
    "The resulting list is [9, -4, 4], so 2 or more negative numbers in a row are not correctly removed, because `item` in the for loop is referring to the wrong element."
   ]
  },
  {
   "cell_type": "markdown",
   "metadata": {
    "collapsed": true,
    "pycharm": {
     "name": "#%% md\n"
    }
   },
   "source": [
    "Rewrite the code to avoid this problem and generate the desired output."
   ]
  },
  {
   "cell_type": "code",
   "execution_count": 5,
   "metadata": {
    "pycharm": {
     "name": "#%%\n"
    }
   },
   "outputs": [
    {
     "name": "stdout",
     "output_type": "stream",
     "text": [
      "[9, 5]\n"
     ]
    }
   ],
   "source": [
    "# Write here your Python code.\n",
    "\n",
    "\n",
    "from typing import List\n",
    "\n",
    "def remove_neg(num_list : List[int]) -> None:\n",
    "    \"\"\" Removes the negative numbers from the list num_list.\n",
    "    \n",
    "    >>> numbers = [-5, 1, -3, 2]\n",
    "    >>> remove_neg(numbers)\n",
    "    >>> numbers\n",
    "    [1, 2]\n",
    "    \"\"\"\n",
    "    \n",
    "    to_remove = [item for item in num_list if item < 0]\n",
    "    for i in to_remove:\n",
    "        num_list.remove(i)\n",
    "\n",
    "numbers = [9, -3, -4, -4, -5, -5, -5, 5]\n",
    "remove_neg(numbers)\n",
    "print(numbers)\n",
    "\n"
   ]
  },
  {
   "cell_type": "markdown",
   "metadata": {
    "pycharm": {
     "name": "#%% md\n"
    }
   },
   "source": [
    "## 6. (10 points)\n",
    "\n",
    "Given a list of lists of numbers `[[-2, 3, -1],[8, 7, -15], [12, 20], [27]]`, write a function that returns a list containing all sublists where the sum of its elements is `0`. Use nested `for` loops.\n",
    "\n",
    "Given the list above, the following list should be returned `[[-2, 3, -1],[8, 7, -15]]`."
   ]
  },
  {
   "cell_type": "code",
   "execution_count": 6,
   "metadata": {
    "pycharm": {
     "name": "#%%\n"
    }
   },
   "outputs": [
    {
     "data": {
      "text/plain": [
       "[[-2, 3, -1], [8, 7, -15]]"
      ]
     },
     "execution_count": 6,
     "metadata": {},
     "output_type": "execute_result"
    }
   ],
   "source": [
    "# Write here your Python code using nested for loops.\n",
    "\n",
    "def zero_sum_lists(list_of_numbers: List[List[int]]) -> List[List[int]]:\n",
    "    \"\"\" Iterating for the elements of the list, which are lists themselves and adding the elements\n",
    "        of the individual lists to see whether the summed valus is 0.\n",
    "    \"\"\"\n",
    "    result = []\n",
    "    for lst in list_of_numbers:\n",
    "        total = 0\n",
    "        for elem in lst:\n",
    "            total += elem\n",
    "            \n",
    "        if total == 0:\n",
    "            result.append(lst)\n",
    "    \n",
    "    return result\n",
    "\n",
    "list_of_numbers = [[-2, 3, -1],[8, 7, -15], [12, 20], [27]]\n",
    "zero_sum_lists(list_of_numbers)"
   ]
  },
  {
   "cell_type": "markdown",
   "metadata": {
    "pycharm": {
     "name": "#%% md\n"
    }
   },
   "source": [
    "Rewrite this code using list comprehensions."
   ]
  },
  {
   "cell_type": "code",
   "execution_count": 7,
   "metadata": {
    "pycharm": {
     "name": "#%%\n"
    }
   },
   "outputs": [
    {
     "data": {
      "text/plain": [
       "[[-2, 3, -1], [8, 7, -15]]"
      ]
     },
     "execution_count": 7,
     "metadata": {},
     "output_type": "execute_result"
    }
   ],
   "source": [
    "# Write here your Python code using list comprehensions.\n",
    "\n",
    "def zero_sum_lists_v2(list_of_numbers: List[List[int]]) -> List[List[int]]:\n",
    "    \n",
    "    result = [lst for lst in list_of_numbers if sum(lst) == 0]\n",
    "    return result\n",
    "\n",
    "\n",
    "list_of_numbers = [[-2, 3, -1],[8, 7, -15], [12, 20], [27]]\n",
    "zero_sum_lists_v2(list_of_numbers)"
   ]
  },
  {
   "cell_type": "markdown",
   "metadata": {
    "pycharm": {
     "name": "#%% md\n"
    }
   },
   "source": [
    "## 7. (15 points)\n",
    "\n",
    "A possible representation of a chess board in Python is:\n",
    "\n",
    "```\n",
    "[\n",
    "  ['w', 'b', 'w', 'b', 'w', 'b', 'w', 'b'],\n",
    "  ['b', 'w', 'b', 'w', 'b', 'w', 'b', 'w'],\n",
    "  ['w', 'b', 'w', 'b', 'w', 'b', 'w', 'b'],\n",
    "  ['b', 'w', 'b', 'w', 'b', 'w', 'b', 'w'],\n",
    "  ['w', 'b', 'w', 'b', 'w', 'b', 'w', 'b'],\n",
    "  ['b', 'w', 'b', 'w', 'b', 'w', 'b', 'w'],\n",
    "  ['w', 'b', 'w', 'b', 'w', 'b', 'w', 'b'],\n",
    "  ['b', 'w', 'b', 'w', 'b', 'w', 'b', 'w']\n",
    " ]```\n",
    "  \n",
    "As you can see there are no two tiles next to each other with the same color.\n",
    "\n",
    "You have to write a program that creates a \"chess board\" consisting\n",
    "of 4 different colors: red (\"r\"), blue (\"b\"), green (\"g\"), and yellow (\"y\"). \n",
    "\n",
    "\n",
    "The colors must be randomly distributed over the tiles but two neighbouring tiles must have different colors.\n",
    "\n",
    "1. Write a function `choose_color()` the returns a random color.\n",
    "\n",
    "2. Write a function `draw_board(size)` that creates a board (as a list) with the `size x size` tiles. Each tile has to have one of the 4 colors and no two adjacent tiles may have the same color. `size` must be greater than 4, otherwise it returns and empty board. \n",
    "\n",
    "3. Write a function `print_board(chess_board)` that prints a chess board.\n",
    "\n",
    "4. Count the number of times the function `choose_color` has been executed.\n",
    "\n",
    "Make sure you add *type hints* and add a *docstring* explaining the functions.\n",
    "\n",
    "**Example 1**: **CORRECT** randomly generated board 6 x 6: \n",
    "\n",
    "*input*:\n",
    "\n",
    "    `print_board(draw_board(6))`\n",
    "\n",
    "*output*:\n",
    "\n",
    "    Board required 57 calls to choose_color()\n",
    "\n",
    "```\n",
    " ['r', 'g', 'r', 'y', 'r', 'g']\n",
    " ['b', 'y', 'g', 'b', 'g', 'b']\n",
    " ['g', 'r', 'b', 'y', 'b', 'g']\n",
    " ['r', 'b', 'y', 'b', 'g', 'b']\n",
    " ['b', 'g', 'r', 'y', 'r', 'g']\n",
    " ['r', 'b', 'g', 'b', 'y', 'b']\n",
    "```\n",
    "\n",
    "**Example 2**: **INCORRECT** randomly generated board 5 x 5.  \n",
    "\n",
    "*input*:\n",
    "\n",
    "    `print_board(draw_board(5))`\n",
    "\n",
    "*output*:\n",
    "\n",
    "    Board required 42 calls to choose_color()\n",
    "\n",
    "```\n",
    "['y', 'b', 'y', 'b', 'g']\n",
    "['g', 'b', 'g', 'r', 'y']\n",
    "['y', 'g', 'b', 'g', 'b']\n",
    "['r', 'b', 'r', 'r', 'g']\n",
    "['b', 'r', 'b', 'y', 'b']\n",
    "```\n",
    "**DOES NOT FULFILL THE REQUIREMENTS** as the second element of the first and second rows (1,2) and (2,2) are equal to 'b', and the third and fourth element of the fourth row (4,3) and (4,4) are equal to 'r'.\n",
    "\n",
    "**Note** You are not expected to generate exactly the same output as colors are randomly choosen and therefore the number of calls to the choose_color function will also be different. "
   ]
  },
  {
   "cell_type": "code",
   "execution_count": 8,
   "metadata": {
    "pycharm": {
     "name": "#%%\n"
    }
   },
   "outputs": [
    {
     "name": "stdout",
     "output_type": "stream",
     "text": [
      "Board required 89 calls to choose_color()\n",
      "['b', 'g', 'y', 'r', 'b', 'y', 'r']\n",
      "['y', 'r', 'g', 'b', 'y', 'b', 'y']\n",
      "['r', 'b', 'r', 'y', 'b', 'y', 'g']\n",
      "['g', 'y', 'g', 'r', 'g', 'r', 'b']\n",
      "['r', 'b', 'y', 'b', 'y', 'g', 'r']\n",
      "['y', 'g', 'r', 'g', 'r', 'b', 'g']\n",
      "['r', 'y', 'g', 'r', 'b', 'r', 'b']\n"
     ]
    }
   ],
   "source": [
    "# Write here your Python code.\n",
    "\n",
    "from typing import Tuple\n",
    "import random\n",
    "\n",
    "colors = [\"r\", \"b\", \"g\", \"y\"]\n",
    "\n",
    "def choose_color() -> str:\n",
    "    return random.choice(colors)\n",
    "\n",
    "def get_neighbors(row: int, column: int) -> Tuple[Tuple[int, int]]:\n",
    "    behind = (row, max(0, column - 1))\n",
    "    top = (max(row - 1, 0), column)\n",
    "    return (behind, top)\n",
    "\n",
    "def print_board(board: List[List[str]]) -> None:\n",
    "    for row in board:\n",
    "        print(row)\n",
    "\n",
    "def draw_board(size: int) -> List[List[str]]:\n",
    "    board = []\n",
    "    choose_color_calls = 0\n",
    "    \n",
    "    #initial board with white colored cells\n",
    "    for i in range(size):\n",
    "        row = [\"w\" for i in range(size)]\n",
    "        board.append(row)\n",
    "    \n",
    "    #board is filled with required colors\n",
    "    for i in range(size):\n",
    "        for j in range(size):\n",
    "            different_color = False\n",
    "            while not different_color:    \n",
    "                color = choose_color()\n",
    "                choose_color_calls += 1\n",
    "                behind, above = get_neighbors(i, j)\n",
    "                color_behind = board[behind[0]][behind[1]]\n",
    "                color_above = board[above[0]][above[1]]\n",
    "                if color_above != color and color_behind != color:\n",
    "                    different_color = True\n",
    "                    board[i][j] = color\n",
    "                \n",
    "    print(\"Board required {} calls to choose_color()\".format(choose_color_calls))            \n",
    "    return board\n",
    "\n",
    "\n",
    "# test\n",
    "print_board(draw_board(7))"
   ]
  },
  {
   "cell_type": "markdown",
   "metadata": {
    "pycharm": {
     "name": "#%% md\n"
    }
   },
   "source": [
    "## 8. (20 points)\n",
    "\n",
    "A city is characterized by its `name`, `population` (number of inhabitants), and an `area` (size of the city).\n",
    "\n",
    "Create a class `City` including:\n",
    "* The method `__init__` with the parameters `name`, `population`, and `area`.\n",
    "* The method `population_density` to calculate the number of people per square kilometer.\n",
    "* The method `has_higher_population_density` to compare the area of the city to another city.\n",
    "* The method `__str__` to print a string representation of the city as follows: `Amsterdam has a population of 862965 and is 219 square kilometers.`\n",
    "\n",
    "A country is characterized by its `name`, `population`, an `area`, a capital city `capital`, and a list of cities.\n",
    "\n",
    "Create a class `Country` including:\n",
    "* The method `__init__` with the parameters `name`, `population`,  `area`, and `capital`. The list of cities should be initialized with the capital city.\n",
    "* The method `add_city` with parameter `city` to add a city to the list of cities.\n",
    "* The method `is_larger` to compare the area of the country to another country.\n",
    "* The method `population_density` to calculate the number of people per square kilometer.\n",
    "* The method `has_higher_population_density` to compare the population density of the country to another country.\n",
    "* The method `__str__` to create a string representation of the country as illustrated in the following example: `The Netherlands has a population of 17084719, is 41543 square kilometers, and has Amsterdam as its capital city.`\n",
    "\n",
    "In the next code cell a list with a few (other) cities in the Netherlands is given: \n",
    "* Create an instance of the Country class to represent *The Netherlands*. The values of the attributes are as specified in the last example.\n",
    "* Write a method that reads in the given JSON representation of cities provided in the cell, creates a City instance for each city in the representation, and adds these City instances to the Country instance created for *The Netherlands* in the previous bullet point. \n",
    "* Print all stored cities of *The Netherlands*.\n",
    "* Write a test to test that the number of city entries in the JSON string equals the number of stored cities in The Netherlands\n",
    "\n",
    "\n",
    "Make sure you add *type hints* and add a *docstring* explaining the functions."
   ]
  },
  {
   "cell_type": "code",
   "execution_count": 9,
   "metadata": {
    "pycharm": {
     "name": "#%%\n"
    }
   },
   "outputs": [
    {
     "name": "stdout",
     "output_type": "stream",
     "text": [
      "Eindhoven has a population of 231642 and is 89 square kilometers\n",
      "Amsterdam has a population of 862965 and is 219 square kilometers\n",
      "3940.4794520547944\n",
      "True\n",
      "The Netherlands has a population of 17084719 is 41543 square kilometers, and has Amsterdam has a population of 862965 and is 219 square kilometers as its capital city\n",
      "Eindhoven has a population of 231642 and is 89 square kilometers\n",
      "Rotterdam has a population of 644618 and is 319 square kilometers\n",
      "Groningen has a population of 202285 and is 180 square kilometers\n",
      "Arnhem has a population of 159265 and is 101 square kilometers\n",
      "Utrecht has a population of 352866 and is 99 square kilometers\n",
      "Zwolle has a population of 127497 and is 119 square kilometers\n",
      "6\n"
     ]
    }
   ],
   "source": [
    "# Write here your Python code, including a test.\n",
    "\n",
    "\n",
    "class City:\n",
    "    \"\"\" class that represents a city\n",
    "    \"\"\"\n",
    "    \n",
    "    def __init__(self, name: str, population: int, area: int) -> None:\n",
    "        \"\"\"initialization method\n",
    "        \"\"\"\n",
    "        self.name = name\n",
    "        self.population = population\n",
    "        self.area = area\n",
    "        \n",
    "    def population_density(self) -> float:\n",
    "        \"\"\" returns the population per square meter\"\"\"\n",
    "        return self.population / self.area\n",
    "    \n",
    "    def has_higher_population_density(self, other) -> bool:\n",
    "        \"\"\" returns True if the city has higher population density than another\n",
    "            city, false otherwise\n",
    "        \"\"\"\n",
    "        return self.population_density() > other.population_density()\n",
    "\n",
    "    def __str__(self) -> str:\n",
    "        \"\"\" returns the string representation of City objects\"\"\"\n",
    "        template = \"{} has a population of {} and is {} square kilometers\"\n",
    "        return template.format(self.name, self.population, self.area)\n",
    "    \n",
    "\n",
    "class Country(City):\n",
    "    \"\"\" class that represents a city\n",
    "    \"\"\"\n",
    "    \n",
    "    def __init__(self, name: str, population: int, area: int, capital) -> None:\n",
    "        \"\"\"initialization method\n",
    "        \"\"\"\n",
    "        super().__init__(name, population, area)\n",
    "        self.capital = capital\n",
    "        self.cities = []\n",
    "        \n",
    "    def add_city(self, city) -> None:\n",
    "        \"\"\" add city to the country\n",
    "        \"\"\"\n",
    "        self.cities.append(city)\n",
    "        \n",
    "    def is_larger(self, other) -> bool:\n",
    "        \"\"\" returns True if this country is larger than another one, false otherwise\n",
    "        \"\"\"\n",
    "        return self.area >  other\n",
    "    \n",
    "    def __str__(self) -> str:\n",
    "        \"\"\" string representation of a Country object\n",
    "        \"\"\"\n",
    "        template = \"{} has a population of {} is {} square kilometers, and has {} as its capital city\"\n",
    "        return template.format(self.name, self.population, \n",
    "                               self.area, self.capital)\n",
    "    \n",
    "import json\n",
    "\n",
    "json_string = \"\"\"\n",
    "[\n",
    "{\"name\" : \"Eindhoven\",\n",
    " \"population\" : 231642,\n",
    " \"area\" : 89,\n",
    " \"mayor\" : \"Jorritsma\",\n",
    " \"university\" : true\n",
    "},\n",
    "{\"name\" : \"Rotterdam\",\n",
    " \"population\" : 644618,\n",
    " \"area\" : 319,\n",
    " \"mayor\" : \"Aboutaleb\",\n",
    " \"university\" : true\n",
    "},\n",
    "{\"name\" : \"Groningen\",\n",
    " \"population\" : 202285,\n",
    " \"area\" : 180,\n",
    " \"mayor\" : \"Schuiling\",\n",
    " \"university\" : true\n",
    "},\n",
    "{\"name\" : \"Arnhem\",\n",
    " \"population\" : 159265,\n",
    " \"area\" : 101,\n",
    " \"mayor\" : \"Marcouch\",\n",
    " \"university\" : false\n",
    "},\n",
    "{\"name\" : \"Utrecht\",\n",
    " \"population\" : 352866,\n",
    " \"area\" : 99,\n",
    " \"mayor\" : \"Zanen\",\n",
    " \"university\" : true\n",
    "},\n",
    "{\"name\" : \"Zwolle\",\n",
    " \"population\" : 127497,\n",
    " \"area\" : 119,\n",
    " \"mayor\" : \"Meijer\",\n",
    " \"university\" : false\n",
    "}\n",
    "]\n",
    "\"\"\"\n",
    "\n",
    "eindhoven = City(\"Eindhoven\", 231642, 89)\n",
    "amsterdam = City(\"Amsterdam\", 862965, 219)\n",
    "print(eindhoven)\n",
    "print(amsterdam)\n",
    "print(amsterdam.population_density())\n",
    "print(amsterdam.has_higher_population_density(eindhoven))\n",
    "\n",
    "netherlands = Country(\"The Netherlands\", 17084719, 41543, amsterdam)\n",
    "print(netherlands)\n",
    "\n",
    "cities = json.loads(json_string)\n",
    "\n",
    "for c in cities:\n",
    "    city = City(c[\"name\"], c[\"population\"], c[\"area\"])\n",
    "    netherlands.add_city(city)\n",
    "    print(city)\n",
    "\n",
    "print(len(netherlands.cities))"
   ]
  },
  {
   "cell_type": "markdown",
   "metadata": {
    "pycharm": {
     "name": "#%% md\n"
    }
   },
   "source": [
    "### 9. (10 points)\n",
    "\n",
    "Write a superclass with the name `Polygon`. A `Polygon` is characterized by its `number_edges`.\n",
    "\n",
    "Create the class `Polygon` including:\n",
    "* The method `__init__` with the parameters `number_edges`.\n",
    "* The method `has_odd_number_corners` to check whether the number of corners is odd or even.\n",
    "* The method `__str__` to create a string representation with the number of edges as follows: *Polygon: {number_edges: 10}*.\n",
    "\n",
    "Create the classes `Rectangle` and `Triangle` as subclasses of the `Polygon` class.\n",
    "\n",
    "Include the following methods to the class `Rectangle`:\n",
    "* The method `__init__` with the parameters `width` and `height`. The attribute `number_edges` will be initialised within the method with an appropriate value. \n",
    "* The method `has_odd_number_corners` to check whether the number of corners is odd or even.\n",
    "* The method `area` to calculate the surface of the rectangle.\n",
    "* The method `is_square` that returns True if the rectangle is a square, and False otherwise. A square is a special type of rectangle where the width and height are equal.\n",
    "* The method `__str__` to create a string representation with the  width, height and area of a rectangle as follows: *Rectangle: {number_edges: 4, width: 10.00, height: 16.00, area: 160.00}*. \n",
    "\n",
    "Include the following methods to the class `Triangle`:\n",
    "* The method `__init__` with the parameters `base` and `height`. The attribute `number_edges` will be initialised within the method with an appropriate value. \n",
    "* The method `area` to calculate the surface of the rectangle.\n",
    "* The method `has_odd_number_corners` to check whether the number of corners is odd or even.\n",
    "* The method `__str__` to create a string representation with the width, height and area of a triangle as follows: *Triangle: {number_edges: 3, base: 15.00, height: 10.00, area: 75.00}*. \n",
    "\n",
    "Make sure you add *type hints* and add a *docstring* explaining the functions."
   ]
  },
  {
   "cell_type": "code",
   "execution_count": 10,
   "metadata": {
    "pycharm": {
     "name": "#%%\n"
    }
   },
   "outputs": [
    {
     "name": "stdout",
     "output_type": "stream",
     "text": [
      "Rectangle:{number_edges: 10, height: 10, width: 16, area: 160}\n",
      "Triangle:{number_edges: 15, height: 15, width: 10, area: 75.0}\n"
     ]
    }
   ],
   "source": [
    "# Write here your Python code.\n",
    "\n",
    "class Polygon:\n",
    "    \"\"\"Creates a class of a polygon\"\"\"\n",
    "    \n",
    "    def __init__(self,number_edges : int) -> None:\n",
    "        \"\"\"Ïnitializes the classs\"\"\"\n",
    "        self.number_edges = number_edges\n",
    "        \n",
    "    def has_odd_numbers_corners(self) -> bool:\n",
    "        \"\"\"Returns if the polygon has an odd or even number of corners\"\"\"\n",
    "        if self.number_edges % 2 == 1:\n",
    "            return True\n",
    "        return False\n",
    "    \n",
    "    def __str__(self) -> str:\n",
    "        return \"Polygon:{number_edges: {}}\".format(self.number_edges)\n",
    "    \n",
    "class Rectangle(Polygon):\n",
    "    \"\"\"Creates a class of a Rectangle\"\"\"\n",
    "    \n",
    "    def __init__(self,height : int, width : int) -> None:\n",
    "        \"\"\"Ïnitializes the classs\"\"\"\n",
    "        self.number_edges = 4\n",
    "        self.height = height\n",
    "        self.width = width\n",
    "        \n",
    "    def area (self) -> int:\n",
    "        \"\"\"Calculates and returns the area of the rectangle\"\"\"\n",
    "        return self.height * self.width\n",
    "    \n",
    "    def is_square(self) -> bool:\n",
    "        \"\"\"Checks if the rectangle is square\"\"\"\n",
    "        return self.height == self.width\n",
    "        \n",
    "    def __str__(self) -> str:\n",
    "        return (\"Rectangle:{\"+ \n",
    "                \"number_edges: {}, height: {}, width: {}, area: {}\".format(self.height, self.height, self.width, self.area()) \n",
    "                +\"}\")\n",
    "    \n",
    "class Triangle(Polygon):\n",
    "    \"\"\"Creates a class of a trinangle\"\"\"\n",
    "    \n",
    "    def __init__(self,height : int, width : int) -> None:\n",
    "        \"\"\"Ïnitializes the classs\"\"\"\n",
    "        self.number_edges = 3\n",
    "        self.height = height\n",
    "        self.width = width\n",
    "        \n",
    "    def area (self) ->int:\n",
    "        \"\"\"Calculates and returns the area of the angle\"\"\"\n",
    "        return self.height * self.width * 0.5\n",
    "\n",
    "        \n",
    "    def __str__(self) -> str:\n",
    "        return (\"Triangle:{\"+ \n",
    "    \"number_edges: {}, height: {}, width: {}, area: {}\".format(self.height, self.height, self.width, self.area()) \n",
    "    +\"}\")\n",
    "\n",
    "# The following code should be executed.\n",
    "rect = Rectangle(10, 16)\n",
    "print(rect)\n",
    "tria = Triangle(15, 10)\n",
    "print(tria)"
   ]
  },
  {
   "cell_type": "markdown",
   "metadata": {
    "pycharm": {
     "name": "#%% md\n"
    }
   },
   "source": [
    "## 10. (10 points, 2 points per sub question)\n",
    "\n",
    "Provide a proper motivation for each of your answers."
   ]
  },
  {
   "cell_type": "markdown",
   "metadata": {
    "pycharm": {
     "name": "#%% md\n"
    }
   },
   "source": [
    "#### 10.1\n",
    "When do you use a `zipper`?\n",
    "\n",
    "Answer:\n",
    "If you have to iterate over 2 lists at the same time. A zipper traverses  several lists (with possibly different sizes) and generates tuples of paired elements from these lists."
   ]
  },
  {
   "cell_type": "markdown",
   "metadata": {
    "pycharm": {
     "name": "#%% md\n"
    }
   },
   "source": [
    "#### 10.2 \n",
    "Which data structure can not be used as key in a dictionary? \n",
    "\n",
    "Answer:\n",
    "\n",
    "Mutable data structures, for instance a list.\n",
    "\n",
    "\n",
    "What mechanism does Python offer to circumvent this?\n",
    "\n",
    "Answer:\n",
    "\n",
    "Pickling"
   ]
  },
  {
   "cell_type": "markdown",
   "metadata": {
    "pycharm": {
     "name": "#%% md\n"
    }
   },
   "source": [
    "#### 10.3 \n",
    "Why is it not sufficient to have a single test if there are multiple paths in a function?\n",
    "\n",
    "Answer:\n",
    "\n",
    "If you have just a single test, you test only one single path through your program\n",
    "\n",
    "Which language constructs are responsible for creating multiple paths in a function?\n",
    "\n",
    "Answer:\n",
    "\n",
    "conditionals and loops"
   ]
  },
  {
   "cell_type": "markdown",
   "metadata": {
    "pycharm": {
     "name": "#%% md\n"
    }
   },
   "source": [
    "#### 10.4 \n",
    "What is meant by *refactoring*?\n",
    "\n",
    "Answer:\n",
    "\n",
    "Answer: \n",
    "\n",
    "Why is it convenient to have tests when refactoring?\n",
    "\n",
    "Answer:"
   ]
  },
  {
   "cell_type": "markdown",
   "metadata": {
    "pycharm": {
     "name": "#%% md\n"
    }
   },
   "source": [
    "#### 10.5 \n",
    "Testing code with random functions is difficult, why?\n",
    "\n",
    "Answer:"
   ]
  }
 ],
 "metadata": {
  "anaconda-cloud": {},
  "kernelspec": {
   "display_name": "Python 3",
   "language": "python",
   "name": "python3"
  },
  "language_info": {
   "codemirror_mode": {
    "name": "ipython",
    "version": 3
   },
   "file_extension": ".py",
   "mimetype": "text/x-python",
   "name": "python",
   "nbconvert_exporter": "python",
   "pygments_lexer": "ipython3",
   "version": "3.8.8"
  }
 },
 "nbformat": 4,
 "nbformat_minor": 1
}
