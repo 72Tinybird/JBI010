{
 "cells": [
  {
   "cell_type": "markdown",
   "metadata": {},
   "source": [
    "# JBI010 - Exercises Week 2 22-23\n",
    "\n",
    "This Jupyter notebook aims to provide exercises for practicing your programming skills.  \n",
    "\n",
    "**Note:** Only five out of seven exercises–with a score of at least 80%–count for 5% of the course's final grade. Submit your notebook to Canvas, in this way Momotor will be able to give you feedback."
   ]
  },
  {
   "cell_type": "markdown",
   "metadata": {},
   "source": [
    "## Table of Contents\n",
    "\n",
    "<div class=\"toc\" style=\"margin-top: 1em;\">\n",
    "    <ul class=\"toc-item\">\n",
    "        <li>\n",
    "            <span><a href=\"#Trigonometry\" data-toc-modified-id=\"Trigonometry\">1. Trigonometry</a></span>\n",
    "        </li>\n",
    "        <li>\n",
    "            <span><a href=\"#Working-Conditions\" data-toc-modified-id=\"Working-Conditions\">2. Working Conditions</a></span>\n",
    "        </li>\n",
    "        <li>\n",
    "            <span><a href=\"#Pyramid-of-Giza\" data-toc-modified-id=\"Pyramid-of-Giza\">3. Pyramid of Giza</a></span>\n",
    "        </li>\n",
    "        <li>\n",
    "            <span><a href=\"#Palindromes\" data-toc-modified-id=\"Palindromes\">4. Palindromes</a></span>\n",
    "        </li>\n",
    "        <li>\n",
    "            <span><a href=\"#Logs-Format-Dates\" data-toc-modified-id=\"Logs-Format-Dates\">5. Logs Format Dates</a></span>\n",
    "        </li>\n",
    "        <li>\n",
    "            <span><a href=\"#Logs-user-information\" data-toc-modified-id=\"Logs-user-information\">6. Logs user information</a></span>\n",
    "        </li>\n",
    "        </ul>\n",
    "</div>"
   ]
  },
  {
   "cell_type": "markdown",
   "metadata": {},
   "source": [
    "\n",
    "# Introduction to This Template Notebook\n",
    "\n",
    "* This is a **personal** notebook. \n",
    "* Make sure you work in a **copy** of `...-template.ipynb`,\n",
    "    **renamed** to `...-yourIDnr.ipynb`,\n",
    "    where `yourIDnr` is your TU/e identification number. \n",
    "\n",
    "<div class=\"alert alert-danger\" role=\"danger\">\n",
    "<h3>Integrity</h3>\n",
    "<ul>\n",
    "    <li>In this course, you must act according to the rules of the TU/e code of scientific conduct.</li>\n",
    "    <li>All the exercises and the graded assignments are to be done within your programming homework group.</li>\n",
    "    <li>You must not copy from the Internet, your friends, books... If you represent other people's work as your own, then that constitutes fraud and will be reported to the Examination Committee.</li>\n",
    "    <li>Making your work available to others (complicity) also constitutes fraud.</li>\n",
    "</ul>\n",
    "</div>\n",
    "\n",
    "You are expected to work with Python 3 code in this notebook.\n",
    "\n",
    "The locations where you should write your solutions can be recognized by\n",
    "**marker lines**,\n",
    "which look like this:\n",
    "\n",
    ">`#//`\n",
    ">    `BEGIN_TODO [Label]` `Description` `(n points)`\n",
    ">\n",
    ">`#//`\n",
    ">    `END_TODO [Label]`\n",
    "\n",
    "<div class=\"alert alert-warning\" role=\"alert\">\n",
    "    <h3>Markers</h3>\n",
    "    Do NOT modify or delete these marker lines.  Keep them as they are.<br/>\n",
    "    NEVER write code that is needed for grading <i>outside</i> the marked blocks. It is invisible there.\n",
    "</div>\n",
    "\n",
    "Proceed in this notebook as follows:\n",
    "* **Personalize** the notebook (see below)\n",
    "* **Read** the text.\n",
    "* **Fill in** your solutions between `BEGIN_TODO` and `END_TODO` marker lines.\n",
    "* **Run** _all_ code cells (also the ones _without_ your code),\n",
    "    _in linear order_ from the first code cell.\n",
    "\n",
    "**Personalize your notebook**:\n",
    "1. Fill in your _full name_, _identification number_, and the current _date_ as strings between quotes.\n",
    "1. Run the code cell by putting the cursor there and typing **Control-Enter**.\n"
   ]
  },
  {
   "cell_type": "code",
   "execution_count": 1,
   "metadata": {},
   "outputs": [
    {
     "data": {
      "text/plain": [
       "('Zhou,Chenxiao', '1879243', '2022-09-08')"
      ]
     },
     "execution_count": 1,
     "metadata": {},
     "output_type": "execute_result"
    }
   ],
   "source": [
    "#// BEGIN_TODO [Author] Name, Id.nr., Date, as strings (1 point)\n",
    "\n",
    "AUTHOR_NAME = 'Zhou,Chenxiao'\n",
    "AUTHOR_ID_NR = '1879243'\n",
    "AUTHOR_DATE = '2022-09-08'  # when first modified, e.g. '2022-09-05'\n",
    "\n",
    "#// END_TODO [Author]\n",
    "\n",
    "AUTHOR_NAME, AUTHOR_ID_NR, AUTHOR_DATE"
   ]
  },
  {
   "cell_type": "markdown",
   "metadata": {},
   "source": [
    "\n",
    "## How to Submit Your Work\n",
    "\n",
    "1. **Before submitting**, you must run your notebook by doing **Kernel > Restart & Run All**. Make sure that your notebook runs without errors **in linear order**.\n",
    "\n",
    "2. Submit the executed notebook with your work for the appropriate assignment in **Canvas**.\n",
    "\n",
    "* In the **Momotor** tab in Canvas,\n",
    "  you can select that assignment again to find some feedback on your submitted work.\n",
    "  \n",
    "* If there are any problems reported by _Momotor_,\n",
    "  then you need to fix those issues and **resubmit the fixed notebook**.\n",
    "\n",
    "In case of a high workload on our server\n",
    "(because many students submit close to the deadline),\n",
    "it may take longer to receive the feedback.\n"
   ]
  },
  {
   "cell_type": "markdown",
   "metadata": {},
   "source": [
    "## Preliminaries\n",
    "\n",
    "Run the cell below. This cell will import additional modules providing additional Python functionality."
   ]
  },
  {
   "cell_type": "code",
   "execution_count": 2,
   "metadata": {},
   "outputs": [],
   "source": [
    "# Imports\n"
   ]
  },
  {
   "cell_type": "markdown",
   "metadata": {},
   "source": [
    "## Important Reminder\n",
    "\n",
    "* Follow all coding conventions defined on the Python Coding Standard document. Remember that you are not just programming for a **machine**, you are mainly programming for **other humans!**\n",
    "    * In particular, all function definitions must have **type hints** and a **docstring**.\n",
    "    * A *valid* **docstring** starts with a capital letter and ends with a dot. "
   ]
  },
  {
   "cell_type": "markdown",
   "metadata": {},
   "source": [
    "# Trigonometry"
   ]
  },
  {
   "cell_type": "markdown",
   "metadata": {},
   "source": [
    "Create the function `compute_hypothenuse`, which computes and returns the hypothenuse of a right-angled triangle given an angle in degrees and the length of the side adjacent to the angle.\n",
    "\n",
    "*Hint 1:* $cos x = \\frac{A}{H}$ where $x$ is the value of the angle, $A$ is the side adjacent to the angle, and $H$ is the length of the hypothenuse.\n",
    "\n",
    "*Hint 2*: The `math` module provides the method `cos`. This method receives an angle in radians (**not** degrees).<br><br>\n",
    "\n",
    "**Note:**<br>\n",
    "1.You could use this $\\frac{angle \\, in \\, radians}{\\pi} = \\frac{angle \\, in \\, degrees}{180}$ formula to convert degrees to radians.<br>\n",
    "2. You could use `math.pi` to import ${\\pi}$ and use its value.<br>\n",
    "3. The function must have a docstring and type hints that describe the purpose of the function.<br>\n",
    "4. Make sure to use the same exact ordering for parameters that we determined above.<br><br>\n",
    "\n",
    "**Example:**\n",
    "```python\n",
    "# Input\n",
    "angle = 39\n",
    "side = 19\n",
    "\n",
    "# Output \n",
    "24.44843175197018\n",
    "```"
   ]
  },
  {
   "cell_type": "code",
   "execution_count": 3,
   "metadata": {},
   "outputs": [
    {
     "data": {
      "text/plain": [
       "24.44843175197018"
      ]
     },
     "execution_count": 3,
     "metadata": {},
     "output_type": "execute_result"
    }
   ],
   "source": [
    "angle = 39\n",
    "side = 19\n",
    "\n",
    "#// BEGIN_TODO [Trigonometry] Trigonometry \n",
    "import math\n",
    "def compute_hypothenuse(angle:float, side:float) -> float:\n",
    "    \"\"\"computes and returns the hypothenuse of a right-angled triangle.\n",
    "    \"\"\"\n",
    "    radians:float = angle * math.pi / 180\n",
    "    hypothenuse:float = side/math.cos(radians)\n",
    "    return hypothenuse \n",
    "#// END_TODO [Trigonometry]\n",
    "\n",
    "compute_hypothenuse(angle, side)"
   ]
  },
  {
   "cell_type": "markdown",
   "metadata": {},
   "source": [
    "# Working Conditions"
   ]
  },
  {
   "cell_type": "code",
   "execution_count": 4,
   "metadata": {},
   "outputs": [],
   "source": [
    "# Change according to required imports\n",
    "from typing import List"
   ]
  },
  {
   "cell_type": "markdown",
   "metadata": {},
   "source": [
    "Create the function `has_proper_conditions` that checks if the working conditions of a room are satisfied. The function receives the temperature of the room in degrees (name the parameter `temperature`) and the noise in decibels (name the parameter `decibels`). If the temperature is higher than 25.0 or less than 18.0, the room has bad working conditions. Similarly, if the noise is higher than 80.0 decibels, working conditions are not met. The function must return a Boolean value, which is `True` if working conditions are met, and `False` otherwise.<br>\n",
    "**Note:**<br>\n",
    "1. The function must have a docstring and type hints that describe the purpose of the function.<br>\n",
    "2. Make sure to use the same exact ordering for parameters that we determined above.<br><br>\n",
    "**Example:**\n",
    "```python\n",
    "# Input\n",
    "temperature = 20.0\n",
    "noise = 85.0\n",
    "\n",
    "# Output \n",
    "False\n",
    "```"
   ]
  },
  {
   "cell_type": "code",
   "execution_count": 5,
   "metadata": {},
   "outputs": [
    {
     "data": {
      "text/plain": [
       "False"
      ]
     },
     "execution_count": 5,
     "metadata": {},
     "output_type": "execute_result"
    }
   ],
   "source": [
    "temperature = 20.0\n",
    "noise = 85.0\n",
    "\n",
    "#// BEGIN_TODO [Working_conditions] Working conditions\n",
    "\n",
    "def has_proper_conditions(temperature:float, noise:float) ->bool:\n",
    "    \"\"\"checks if the working conditions of a room are satisfied.\n",
    "    \"\"\"\n",
    "    if temperature<18 or temperature >25 or noise > 80:\n",
    "        return False\n",
    "    else:\n",
    "        return True\n",
    "\n",
    "#// END_TODO [Working_conditions]\n",
    "\n",
    "has_proper_conditions(temperature, noise)"
   ]
  },
  {
   "cell_type": "markdown",
   "metadata": {},
   "source": [
    "# Pyramid of Giza"
   ]
  },
  {
   "cell_type": "code",
   "execution_count": 6,
   "metadata": {},
   "outputs": [],
   "source": [
    "# Change according to required imports\n",
    "from typing import List\n",
    "import math"
   ]
  },
  {
   "cell_type": "markdown",
   "metadata": {},
   "source": [
    "The Pyramid of Giza is a square pyramid built in Egypt around 2.500 BC. The squared base of the pyramid has a side length of 230m. The height of the pyramid is 140m. Create the function `compute_pyramid_area` that computes the surface area (area of the lateral surfaces and the base) of any pyramid. The function takes the side length of the pyramid square base, and the slant height of the pyramid as decimal parameters. Name them `side` and `height`, respectively. The surface area of a square pyramid is defined as $A = a^2 + 2as$, where $a$ is the length of the base side and $s$ is the slant height. The slant height is the distance on a lateral face that goes from the base to the apex. Notice that you need to compute the slant height within the function.\n",
    "\n",
    "![Square based pyramid](datasets/pyramid.png)\n",
    "\n",
    "**Note:**<br>\n",
    "1. Don't forget to use the Pythagorean theorem.<br>\n",
    "2. The function must have a docstring and type hints that describe the purpose of the function.<br>\n",
    "3. Make sure to use the same exact ordering for parameters that we determined above.<br><br> \n",
    "\n",
    "**Example:**\n",
    "```python\n",
    "# Input\n",
    "side = 230\n",
    "height = 140\n",
    "\n",
    "# Output \n",
    "136241.28628716982\n",
    "```"
   ]
  },
  {
   "cell_type": "code",
   "execution_count": 7,
   "metadata": {},
   "outputs": [
    {
     "data": {
      "text/plain": [
       "136241.28628716982"
      ]
     },
     "execution_count": 7,
     "metadata": {},
     "output_type": "execute_result"
    }
   ],
   "source": [
    "side = 230\n",
    "height = 140\n",
    "\n",
    "#// BEGIN_TODO [Pyramid_of_giza] Pyramid of giza \n",
    "\n",
    "def compute_pyramid_area(side:int, height:int) ->float:\n",
    "    \"\"\"computes the surface area of any pyramid.\n",
    "    \"\"\"\n",
    "    s=math.sqrt(height*height+side*side/4)\n",
    "    A=side**2+2*side*s\n",
    "    return A\n",
    "    \n",
    "#// END_TODO [Pyramid_of_giza]\n",
    "\n",
    "compute_pyramid_area(side, height)"
   ]
  },
  {
   "cell_type": "markdown",
   "metadata": {},
   "source": [
    "# Palindromes"
   ]
  },
  {
   "cell_type": "code",
   "execution_count": 8,
   "metadata": {},
   "outputs": [],
   "source": [
    "# Change according to required imports\n",
    "from typing import List"
   ]
  },
  {
   "cell_type": "markdown",
   "metadata": {},
   "source": [
    "A palindrome is a word that reads the same backward and forward. Write the function `create_palindrome`, which creates a palindrome based on a root string (name the parameter `root`). You need to reverse and add the root to the end of the string. However, if the length of the root string is odd, you should ignore the last letter of the root to create the second half of the palindrome.<br>\n",
    "\n",
    "**Note:**<br>\n",
    "1. The function must have a docstring and type hints that describe the purpose of the function.<br>\n",
    "2. Make sure to use the same exact ordering for parameters that we determined above.<br><br> \n",
    "\n",
    "**Example:**\n",
    "```python\n",
    "# Input (odd length)\n",
    "root = 'kay'\n",
    "\n",
    "# Output (odd length)\n",
    "'kayak'\n",
    "\n",
    "# Input (even length)\n",
    "root = 'an'\n",
    "\n",
    "# Output (even length) \n",
    "'anna'\n",
    "```"
   ]
  },
  {
   "cell_type": "code",
   "execution_count": 9,
   "metadata": {},
   "outputs": [
    {
     "name": "stdout",
     "output_type": "stream",
     "text": [
      "kayak\n",
      "anna\n"
     ]
    }
   ],
   "source": [
    "#// BEGIN_TODO [Palindromes] Palindromes\n",
    "\n",
    "def create_palindrome(root:str) ->str:\n",
    "    \"\"\"create the palindrome.\n",
    "    \"\"\"\n",
    "    convert_root=list(root)\n",
    "    list.reverse(convert_root)\n",
    "    a=''.join(convert_root)\n",
    "    if len(root)%2 == 0:\n",
    "        return root + a\n",
    "    else:\n",
    "        return root[0:len(root)-1] + a\n",
    "\n",
    "#   # use[::-1]\n",
    "#     if len(pal)%2 == 0:\n",
    "#         pal=pal+ pal[::-1]\n",
    "#     else:\n",
    "#         pal=pal[0:len(pal)-1]+pal[::-1]\n",
    "#     return pal\n",
    "#   # 从后往前逐个输出\n",
    "#     if len(pal)%2 == 0:\n",
    "#         index = len(pal)-1\n",
    "#     else:\n",
    "#         index = len(pal)-2\n",
    "#     while index >= 0:\n",
    "#         pal=pal+ pal[index]\n",
    "#         index -= 1\n",
    "#     return pal\n",
    "    \n",
    "#// END_TODO [Palindromes]\n",
    "\n",
    "print(create_palindrome('kay'))\n",
    "print(create_palindrome('an'))"
   ]
  },
  {
   "cell_type": "markdown",
   "metadata": {},
   "source": [
    "# Logs Format Dates"
   ]
  },
  {
   "cell_type": "code",
   "execution_count": 10,
   "metadata": {},
   "outputs": [],
   "source": [
    "# Change according to required imports\n",
    "from typing import List"
   ]
  },
  {
   "cell_type": "markdown",
   "metadata": {},
   "source": [
    "You are hired by a company that sells products on the internet. They have a nice web application where people can easily buy their products. The web application (as any other program) runs on a computer (called a web server) where a log file is maintained. A log file is nothing more than a text file that captures events related to an application. In this case, the log file stores all the visits to the main page of the website. Each log looks like this:\n",
    "\n",
    "`'172.16.254.1 - sarah [01/Sep/2020:13:55:36 -0700] \"GET /index.html\" 200 2465'`\n",
    "\n",
    "- `172.16.254.1` is the IP address (like an internet ID) of the visitor's computer.\n",
    "- `sarah` is the user ID of the visitor.\n",
    "- `[01/Sep/2020:13:55:36 -0700]` is the date, time, and time zone of the request.\n",
    "- `\"GET /index.html\"` is the request performed by the client (don't worry, we don't need to completely understand it).\n",
    "- `200` is the response code of the web server. In plain English 200 means \"All good! we got your request\".\n",
    "- `2465` is the size (in bytes) of the index file.\n",
    "\n",
    "Create a function `format_date` that takes one log string as an argument and outputs the message: \"Access on `month` `day` of `year`\".\n",
    "\n",
    "**Example:**\n",
    "```python\n",
    "# Input\n",
    "log = '172.16.254.1 - sarah [01/Sep/2020:13:55:36 -0700] \"GET /index.html\" 200 2465'\n",
    "\n",
    "# Output\n",
    "'Access on Sep 01 of 2020'\n",
    "```"
   ]
  },
  {
   "cell_type": "code",
   "execution_count": 11,
   "metadata": {},
   "outputs": [
    {
     "data": {
      "text/plain": [
       "'Access on Sep 01 of 2020'"
      ]
     },
     "execution_count": 11,
     "metadata": {},
     "output_type": "execute_result"
    }
   ],
   "source": [
    "#// BEGIN_TODO [Logs_format_dates] Logs format dates\n",
    "\n",
    "def format_date(data:str) ->str:\n",
    "    \"\"\"take one log string as an argument.\n",
    "    \"\"\"\n",
    "    word = data.split(\"[\",2)\n",
    "    first = word[1]\n",
    "    words = \"\".join(first)\n",
    "    time = words.split(\":\")\n",
    "    second = time[0]\n",
    "    wordss = \"\".join(second)\n",
    "    third = wordss.split(\"/\")\n",
    "    month=third[1]\n",
    "    day=third[0]\n",
    "    year=third[2]\n",
    "    #return \"Access on %s %s of %s\"%(third[1],third[0],third[2])\n",
    "    return \"Access on \"+month+\" \"+day+\" of \"+year\n",
    "\n",
    "#// END_TODO [Logs_format_dates]\n",
    "\n",
    "format_date('172.16.254.1 - sarah [01/Sep/2020:13:55:36 -0700] \"GET /index.html\" 200 2465')"
   ]
  },
  {
   "cell_type": "markdown",
   "metadata": {},
   "source": [
    "# Logs user information"
   ]
  },
  {
   "cell_type": "code",
   "execution_count": 12,
   "metadata": {},
   "outputs": [],
   "source": [
    "# Change according to required imports\n",
    "from typing import List"
   ]
  },
  {
   "cell_type": "markdown",
   "metadata": {},
   "source": [
    "Consider the log strings described in Exercise 5. This time you are requested to write the `extract_user_info` function, which takes a log string as input. The function should output the message: \"The IP address of `user` is `ip_address`\".\n",
    "\n",
    "**Example:**\n",
    "```python\n",
    "# Input\n",
    "log = '172.16.254.1 - sarah [01/Sep/2020:13:55:36 -0700] \"GET /index.html\" 200 2465'\n",
    "\n",
    "# Output\n",
    "'The IP address of sarah is 172.16.254.1'\n",
    "```"
   ]
  },
  {
   "cell_type": "code",
   "execution_count": 13,
   "metadata": {},
   "outputs": [
    {
     "data": {
      "text/plain": [
       "'The IP address of sarah is 172.16.254.1'"
      ]
     },
     "execution_count": 13,
     "metadata": {},
     "output_type": "execute_result"
    }
   ],
   "source": [
    "#// BEGIN_TODO [Logs_user_information] Logs user information \n",
    "\n",
    "def extract_user_info(log:str) ->str:\n",
    "    \"\"\"output the user's name and address.\n",
    "    \"\"\"\n",
    "    word = log.split(\" \")\n",
    "#     return \"The IP address of %s is %s\"%(word[2],word[0])\n",
    "    return \"The IP address of \" + word[2] + \" is \" + word[0]\n",
    "#// END_TODO [Logs_user_information]\n",
    "\n",
    "extract_user_info('172.16.254.1 - sarah [01/Sep/2020:13:55:36 -0700] \"GET /index.html\" 200 2465')"
   ]
  },
  {
   "cell_type": "code",
   "execution_count": 14,
   "metadata": {},
   "outputs": [
    {
     "name": "stdout",
     "output_type": "stream",
     "text": [
      "Variable                Type             Data/Info\n",
      "--------------------------------------------------\n",
      "AUTHOR_DATE             str              2022-09-08\n",
      "AUTHOR_ID_NR            str              1879243\n",
      "AUTHOR_NAME             str              Zhou,Chenxiao\n",
      "List                    _GenericAlias    typing.List\n",
      "angle                   int              39\n",
      "compute_hypothenuse     function         <function compute_hypothe<...>se at 0x000001D36095B940>\n",
      "compute_pyramid_area    function         <function compute_pyramid<...>ea at 0x000001D36098B1F0>\n",
      "create_palindrome       function         <function create_palindro<...>me at 0x000001D36095BEE0>\n",
      "extract_user_info       function         <function extract_user_in<...>fo at 0x000001D36095B670>\n",
      "format_date             function         <function format_date at 0x000001D36095B310>\n",
      "has_proper_conditions   function         <function has_proper_cond<...>ns at 0x000001D36095BAF0>\n",
      "height                  int              140\n",
      "math                    module           <module 'math' (built-in)>\n",
      "noise                   float            85.0\n",
      "side                    int              230\n",
      "temperature             float            20.0\n"
     ]
    }
   ],
   "source": [
    "%whos"
   ]
  },
  {
   "cell_type": "markdown",
   "metadata": {},
   "source": [
    "---\n",
    "\n",
    "## (End of Notebook)\n",
    "\n",
    "&copy; 2021 - **TU/e** - Eindhoven University of Technology"
   ]
  }
 ],
 "metadata": {
  "anaconda-cloud": {},
  "kernelspec": {
   "display_name": "Python 3",
   "language": "python",
   "name": "python3"
  },
  "language_info": {
   "codemirror_mode": {
    "name": "ipython",
    "version": 3
   },
   "file_extension": ".py",
   "mimetype": "text/x-python",
   "name": "python",
   "nbconvert_exporter": "python",
   "pygments_lexer": "ipython3",
   "version": "3.8.8"
  }
 },
 "nbformat": 4,
 "nbformat_minor": 4
}
