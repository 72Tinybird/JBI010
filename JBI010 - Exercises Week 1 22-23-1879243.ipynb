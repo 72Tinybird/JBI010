{
 "cells": [
  {
   "cell_type": "markdown",
   "metadata": {},
   "source": [
    "# JBI010 - Exercises Week 1 22-23\n",
    "\n",
    "This Jupyter notebook aims to provide exercises for practicing your programming skills.  \n",
    "\n",
    "**Note:** Only five out of seven exercises–with a score of at least 80%–count for 5% of the course's final grade. Submit your notebook to Canvas, in this way Momotor will be able to give you feedback."
   ]
  },
  {
   "cell_type": "markdown",
   "metadata": {},
   "source": [
    "## Table of Contents\n",
    "\n",
    "<div class=\"toc\" style=\"margin-top: 1em;\">\n",
    "    <ul class=\"toc-item\">\n",
    "        <li>\n",
    "            <span><a href=\"#Hello-World!-2.0\" data-toc-modified-id=\"Hello-World!-2.0\">1. Hello World! 2.0</a></span>\n",
    "        </li>\n",
    "        <li>\n",
    "            <span><a href=\"#Minutes-in-a-Leap-Year\" data-toc-modified-id=\"Minutes-in-a-Leap-Year\">2. Minutes in a Leap Year</a></span>\n",
    "        </li>\n",
    "        <li>\n",
    "            <span><a href=\"#Gross-Pay\" data-toc-modified-id=\"Gross-Pay\">3. Gross Pay</a></span>\n",
    "        </li>\n",
    "        <li>\n",
    "            <span><a href=\"#Bonus\" data-toc-modified-id=\"Bonus\">4. Bonus</a></span>\n",
    "        </li>\n",
    "        <li>\n",
    "            <span><a href=\"#Fahrenheit-to-Celsius\" data-toc-modified-id=\"Fahrenheit-to-Celsius\">5. Fahrenheit to Celsius</a></span>\n",
    "        </li>\n",
    "        <li>\n",
    "            <span><a href=\"#Truth-Table\" data-toc-modified-id=\"Truth-Table\">6. Truth Table</a></span>\n",
    "        </li>\n",
    "        <li>\n",
    "            <span><a href=\"#Send-a-Parcel\" data-toc-modified-id=\"Send-a-Parcel\">7. Send a Parcel</a></span>\n",
    "        </li>\n",
    "        <li>\n",
    "            <span><a href=\"#Factorials\" data-toc-modified-id=\"Factorials\">8. Factorials</a></span>\n",
    "        </li>\n",
    "        <li>\n",
    "            <span><a href=\"#Fibonacci-Number\" data-toc-modified-id=\"Fibonacci-Number\">9. Fibonacci Number</a></span>\n",
    "        </li>\n",
    "        <li>\n",
    "            <span><a href=\"#Print-Pattern\" data-toc-modified-id=\"Print-Pattern\">10. Print Pattern</a></span>\n",
    "        </li>\n",
    "        </ul>\n",
    "</div>"
   ]
  },
  {
   "cell_type": "markdown",
   "metadata": {},
   "source": [
    "\n",
    "# Introduction to This Template Notebook\n",
    "\n",
    "* This is a **personal** notebook. \n",
    "* Make sure you work in a **copy** of `...-template.ipynb`,\n",
    "    **renamed** to `...-yourIDnr.ipynb`,\n",
    "    where `yourIDnr` is your TU/e identification number. \n",
    "\n",
    "<div class=\"alert alert-danger\" role=\"danger\">\n",
    "<h3>Integrity</h3>\n",
    "<ul>\n",
    "    <li>In this course, you must act according to the rules of the TU/e code of scientific conduct.</li>\n",
    "    <li>All the exercises and the graded assignments are to be done within your programming homework group.</li>\n",
    "    <li>You must not copy from the Internet, your friends, books... If you represent other people's work as your own, then that constitutes fraud and will be reported to the Examination Committee.</li>\n",
    "    <li>Making your work available to others (complicity) also constitutes fraud.</li>\n",
    "</ul>\n",
    "</div>\n",
    "\n",
    "You are expected to work with Python 3 code in this notebook.\n",
    "\n",
    "The locations where you should write your solutions can be recognized by\n",
    "**marker lines**,\n",
    "which look like this:\n",
    "\n",
    ">`#//`\n",
    ">    `BEGIN_TODO [Label]` `Description` `(n points)`\n",
    ">\n",
    ">`#//`\n",
    ">    `END_TODO [Label]`\n",
    "\n",
    "<div class=\"alert alert-warning\" role=\"alert\">\n",
    "    <h3>Markers</h3>\n",
    "    Do NOT modify or delete these marker lines.  Keep them as they are.<br/>\n",
    "    NEVER write code that is needed for grading <i>outside</i> the marked blocks. It is invisible there.\n",
    "</div>\n",
    "\n",
    "Proceed in this notebook as follows:\n",
    "* **Personalize** the notebook (see below)\n",
    "* **Read** the text.\n",
    "* **Fill in** your solutions between `BEGIN_TODO` and `END_TODO` marker lines.\n",
    "* **Run** _all_ code cells (also the ones _without_ your code),\n",
    "    _in linear order_ from the first code cell.\n",
    "\n",
    "**Personalize your notebook**:\n",
    "1. Fill in your _full name_, _identification number_, and the current _date_ as strings between quotes.\n",
    "1. Run the code cell by putting the cursor there and typing **Control-Enter**.\n"
   ]
  },
  {
   "cell_type": "code",
   "execution_count": 1,
   "metadata": {},
   "outputs": [
    {
     "data": {
      "text/plain": [
       "('Zhou,Chenxiao', '1879243', '2022-09-05')"
      ]
     },
     "execution_count": 1,
     "metadata": {},
     "output_type": "execute_result"
    }
   ],
   "source": [
    "#// BEGIN_TODO [Author] Name, Id.nr., Date, as strings (1 point)\n",
    "\n",
    "AUTHOR_NAME = 'Zhou,Chenxiao'\n",
    "AUTHOR_ID_NR = '1879243'\n",
    "AUTHOR_DATE = '2022-09-05'  # when first modified, e.g. '2022-09-05'\n",
    "\n",
    "#// END_TODO [Author]\n",
    "\n",
    "AUTHOR_NAME, AUTHOR_ID_NR, AUTHOR_DATE"
   ]
  },
  {
   "cell_type": "markdown",
   "metadata": {},
   "source": [
    "\n",
    "## How to Submit Your Work\n",
    "\n",
    "1. **Before submitting**, you must run your notebook by doing **Kernel > Restart & Run All**. Make sure that your notebook runs without errors **in linear order**.\n",
    "\n",
    "2. Submit the executed notebook with your work for the appropriate assignment in **Canvas**.\n",
    "\n",
    "* In the **Momotor** tab in Canvas,\n",
    "  you can select that assignment again to find some feedback on your submitted work.\n",
    "  \n",
    "* If there are any problems reported by _Momotor_,\n",
    "  then you need to fix those issues and **resubmit the fixed notebook**.\n",
    "\n",
    "In case of a high workload on our server\n",
    "(because many students submit close to the deadline),\n",
    "it may take longer to receive the feedback.\n"
   ]
  },
  {
   "cell_type": "markdown",
   "metadata": {},
   "source": [
    "## Preliminaries\n",
    "\n",
    "Run the cell below. This cell will import additional modules providing additional Python functionality."
   ]
  },
  {
   "cell_type": "code",
   "execution_count": 2,
   "metadata": {},
   "outputs": [],
   "source": [
    "# Imports\n"
   ]
  },
  {
   "cell_type": "markdown",
   "metadata": {},
   "source": [
    "## Important Reminder\n",
    "\n",
    "* Follow all coding conventions defined on the Python Coding Standard document. Remember that you are not just programming for a **machine**, you are mainly programming for **other humans!**\n",
    "    * In particular, all function definitions must have **type hints** and a **docstring**.\n",
    "    * A *valid* **docstring** starts with a capital letter and ends with a dot. "
   ]
  },
  {
   "cell_type": "markdown",
   "metadata": {},
   "source": [
    "# Hello World! 2.0"
   ]
  },
  {
   "cell_type": "markdown",
   "metadata": {},
   "source": [
    "Printing strings is a good way to output information to the screen so you or others can read it.\n",
    "Usually, we want to output variables together with the string.<br>\n",
    "\n",
    "Create a program that prints a line, using the variables `name` and `country`. Feel free to modify their content.  The content of the line should be as follows: \"Hello World! My name is `<name>` and I come from `<country>`\".\n",
    "\n",
    "\n",
    "**Note:**\n",
    "1. The quotes should not be in the output. They are in the exercises to indicate strings.\n",
    "2. Make use of the `print()` function.\n",
    "\n",
    "**Example:**\n",
    "```python\n",
    "# Input\n",
    "name = 'Ligia'\n",
    "country = 'Brazil'\n",
    "\n",
    "# Output\n",
    "'Hello World! My name is Ligia and I come from Brazil.'\n",
    "```"
   ]
  },
  {
   "cell_type": "code",
   "execution_count": 3,
   "metadata": {},
   "outputs": [
    {
     "name": "stdout",
     "output_type": "stream",
     "text": [
      "Hello World! My name is Ligia and I come from Brazil.\n"
     ]
    }
   ],
   "source": [
    "name = 'Ligia'\n",
    "country = 'Brazil'\n",
    "\n",
    "#// BEGIN_TODO [Hello_world!_2.0] Hello world! 2.0\n",
    "\n",
    "print(\"Hello World! My name is \"+name+\" and I come from \"+country+\".\")\n",
    "\n",
    "#// END_TODO [Hello_world!_2.0]"
   ]
  },
  {
   "cell_type": "markdown",
   "metadata": {},
   "source": [
    "# Minutes in a Leap Year"
   ]
  },
  {
   "cell_type": "markdown",
   "metadata": {},
   "source": [
    "2020 is a leap year. A leap year has one extra day to align the calendar year with the astronomical year. Write a program that calculates how many minutes there are in a leap year.\n",
    "Assign the answer to the variable `time`.\n",
    "\n",
    "**Note:** Use the multiplication operator (as many times as needed) to compute the number of minutes, and assign the value to the variable `time`.  \n",
    "\n",
    "**Example:**\n",
    "```python\n",
    "# Input\n",
    "None\n",
    "\n",
    "# Output\n",
    "527040\n",
    "```"
   ]
  },
  {
   "cell_type": "code",
   "execution_count": 4,
   "metadata": {},
   "outputs": [
    {
     "name": "stdout",
     "output_type": "stream",
     "text": [
      "527040\n"
     ]
    }
   ],
   "source": [
    "#// BEGIN_TODO [Minutes_in_a_Leap_Year] Minutes in a Leap Year\n",
    "\n",
    "time = 366 * 24 * 60\n",
    "\n",
    "#// END_TODO [Minutes_in_a_Leap_Year]\n",
    "\n",
    "print(time)"
   ]
  },
  {
   "cell_type": "markdown",
   "metadata": {},
   "source": [
    "# Gross Pay"
   ]
  },
  {
   "cell_type": "markdown",
   "metadata": {},
   "source": [
    "Write a program that computes the gross pay(what employees earn before taxes) of a worker per month(4 weeks). This program considers the number of worked hours per week and the pay rate. Use the `hours` and `rate` variables, respectively. Store the result in a variable called `pay`.<br>\n",
    "\n",
    "\n",
    "\n",
    "**Example:**\n",
    "```python\n",
    "# Input\n",
    "hours = 40\n",
    "rate = 13\n",
    "\n",
    "# Output\n",
    "2080\n",
    "```"
   ]
  },
  {
   "cell_type": "code",
   "execution_count": 5,
   "metadata": {},
   "outputs": [
    {
     "name": "stdout",
     "output_type": "stream",
     "text": [
      "2080\n"
     ]
    }
   ],
   "source": [
    "hours = 40\n",
    "rate = 13\n",
    "\n",
    "#// BEGIN_TODO [Gross_Pay] Gross Pay\n",
    "\n",
    "pay = 4 * hours * rate\n",
    "\n",
    "#// END_TODO [Gross_Pay]\n",
    "\n",
    "print(pay)"
   ]
  },
  {
   "cell_type": "markdown",
   "metadata": {},
   "source": [
    "# Bonus"
   ]
  },
  {
   "cell_type": "markdown",
   "metadata": {},
   "source": [
    "Write a program that computes the mid-year bonus of a worker. This bonus is equal to 8% of the gross pay(what employees earn before taxes) received during 12 months. Assume that the gross pay is the same every month. Consider the result of the gross pay value stored in the `pay` variable. Store the result in a new variable called `bonus`.<br>\n",
    "\n",
    "**Note:** Make use of the variable `pay`.\n",
    "\n",
    "**Example:**\n",
    "```python\n",
    "# Input\n",
    "pay = 2080\n",
    "\n",
    "# Output\n",
    "1996.8000000000002\n",
    "```"
   ]
  },
  {
   "cell_type": "code",
   "execution_count": 6,
   "metadata": {},
   "outputs": [
    {
     "name": "stdout",
     "output_type": "stream",
     "text": [
      "1996.8\n"
     ]
    }
   ],
   "source": [
    "pay = 2080\n",
    "\n",
    "#// BEGIN_TODO [Bonus] Bonus\n",
    "\n",
    "bonus = (12 * pay * 0.08)\n",
    "\n",
    "#// END_TODO [Bonus]\n",
    "\n",
    "print(bonus)"
   ]
  },
  {
   "cell_type": "markdown",
   "metadata": {},
   "source": [
    "# Fahrenheit to Celsius"
   ]
  },
  {
   "cell_type": "markdown",
   "metadata": {},
   "source": [
    "Write a program that converts 100°F (degrees Fahrenheit) to °C (degrees Celsius). Use the variable `fahrenheit` and assign the answer to the variable `celsius`.  \n",
    "\n",
    "**Note:** \n",
    "1. Do not use the `print()` function, it is already in the code cell.\n",
    "2. The formula to compute the temperature in degrees Celsius from degrees Fahrenheit is as follows: $c = (f - 32) \\times \\frac{5}{9}$, where $c$ is the temperature in °C and $f$ is the temperature in °F.\n",
    "\n",
    "**Example:**\n",
    "```python\n",
    "# Input\n",
    "fahrenheit = 100\n",
    "\n",
    "# Output\n",
    "37.77777777777778\n",
    "```"
   ]
  },
  {
   "cell_type": "code",
   "execution_count": 7,
   "metadata": {},
   "outputs": [
    {
     "name": "stdout",
     "output_type": "stream",
     "text": [
      "37.77777777777778\n"
     ]
    }
   ],
   "source": [
    "fahrenheit = 100\n",
    "\n",
    "#// BEGIN_TODO [Fahrenheit_to_celsius] Fahrenheit to celsius\n",
    "\n",
    "celsius = (fahrenheit - 32) * 5 / 9\n",
    "\n",
    "#// END_TODO [Fahrenheit_to_celsius]\n",
    "\n",
    "print(celsius)"
   ]
  },
  {
   "cell_type": "markdown",
   "metadata": {},
   "source": [
    "# Truth Table"
   ]
  },
  {
   "cell_type": "markdown",
   "metadata": {},
   "source": [
    "You are hired to build a program that returns the truth of an logical implication statement. An implication or conditional statement is a declarative sentence composed of two statements $p$ and $q$ connected by an *if .. then* phrase. It is something of the form \"if $p$ then $q$\". For example, you can say \"if it rains then I will get wet\", where $p =$ \"it rains\" and $q = $ \"I will get wet\".\n",
    "\n",
    "An logical implication statement is written like $p \\rightarrow q$. We can verify the truth value of a statement by looking at the implication truth table:\n",
    "\n",
    "| **p** | **q** | **p &rarr; q** |\n",
    "|:-----:|:-----:|:--------------:|\n",
    "|True |True |True |\n",
    "|True |False|False|\n",
    "|False|True |True |\n",
    "|False|False|True |\n",
    "\n",
    "To implement your program you need to use two variables, namely `p` and `q`. Print a message of the form \"If p is `<p>` and q is `<q>`, then p implies q is `<implication>`\". For this exercise use `if` statements.<br><br>\n",
    "**Note:**<br>\n",
    "1. Store the implication into the `implication` variable.\n",
    "2. Make use of logical operators (i.e., `and`, `or`, `not`).\n",
    "3. The output should not contain quotes, in the example section, we use quotes for you to notice what the output is.<br>\n",
    "\n",
    "**Example:**\n",
    "```python\n",
    "# Input\n",
    "p = False\n",
    "q = False\n",
    "\n",
    "# Output\n",
    "'If p is False and q is False, then p implies q is True.'\n",
    "```"
   ]
  },
  {
   "cell_type": "code",
   "execution_count": 8,
   "metadata": {},
   "outputs": [
    {
     "name": "stdout",
     "output_type": "stream",
     "text": [
      "If p is False and q is False, then p implies q is True.\n"
     ]
    }
   ],
   "source": [
    "p = False \n",
    "q = False\n",
    "\n",
    "#// BEGIN_TODO [Truth_table] Truth table\n",
    "\n",
    "if (p == True and q == False):\n",
    "    implication = False\n",
    "else:\n",
    "    implication = True\n",
    "print(\"If p is \",p,\" and q is \",q,\", then p implies q is \",implication,\".\",sep=\"\")\n",
    "\n",
    "#// END_TODO [Truth_table]"
   ]
  },
  {
   "cell_type": "markdown",
   "metadata": {},
   "source": [
    "# Send a Parcel"
   ]
  },
  {
   "cell_type": "markdown",
   "metadata": {},
   "source": [
    "You are hired to create a program that computes the price of sending a parcel from the Netherlands to different continents. The price depends on the weight of the parcel and the continent to which it is sent. Use the `kg` and the `continent` variables, respectively. Store the result in the variable `price`. \n",
    "\n",
    "In the following table, you will get the price **per kg** per continent.\n",
    "\n",
    "| **Continent** | **0-5 kg** | **6-10 kg** | **11-15 kg** | **16-20 kg**|\n",
    "|:--------------|:----------:|:-----------:|:------------:|:-----------:|\n",
    "| Africa     | 13 &euro; | 7.5 &euro; | 6.5 &euro; | 5 &euro;   |\n",
    "| America    | 13 &euro; | 7.5 &euro; | 6.5 &euro; | 5 &euro;   |\n",
    "| Antarctica | 20 &euro; | 10 &euro;  | 7.5 &euro; | 7 &euro;   |\n",
    "| Asia       | 12 &euro; | 7 &euro;   | 5.5 &euro; | 4 &euro;   |\n",
    "| Europe     | 5 &euro;  | 4 &euro;   | 2.5 &euro; | 1.5 &euro; |\n",
    "| Oceania    | 12 &euro; | 7 &euro;   | 5.5 &euro; | 4 &euro;   |<br>\n",
    "\n",
    "**Note:**<br>\n",
    "1. **Only** use conditionals to solve this problem (i.e., `if` statements).\n",
    "2. Do not use the `print()` function, it has been placed in the cell block already.<br><br>\n",
    "\n",
    "\n",
    "**Example:**\n",
    "```python\n",
    "# Input\n",
    "kg = 10\n",
    "continent = AFRICA\n",
    "\n",
    "# Output \n",
    "price\n",
    "75.0\n",
    "```"
   ]
  },
  {
   "cell_type": "code",
   "execution_count": 9,
   "metadata": {},
   "outputs": [
    {
     "name": "stdout",
     "output_type": "stream",
     "text": [
      "75.0\n"
     ]
    }
   ],
   "source": [
    "AFRICA = 'Africa'\n",
    "AMERICA = 'America'\n",
    "ANTARCTICA = 'Antarctica'\n",
    "ASIA = 'Asia'\n",
    "EUROPE = 'Europe'\n",
    "OCEANIA = 'Oceania'\n",
    "\n",
    "kg = 10 \n",
    "continent = AFRICA\n",
    "\n",
    "#// BEGIN_TODO [Send_a_parcel] Send a parcel \n",
    "\n",
    "if continent == 'Africa':\n",
    "    if kg<6:\n",
    "        price = kg * 13\n",
    "    elif kg<11:\n",
    "        price = kg * 7.5\n",
    "    elif kg<16:\n",
    "        price = kg * 6.5\n",
    "    elif kg<21:\n",
    "        price = kg * 5\n",
    "elif continent == 'America':\n",
    "    if kg<6:\n",
    "        price = kg * 13\n",
    "    elif kg<11:\n",
    "        price = kg * 7.5\n",
    "    elif kg<16:\n",
    "        price = kg * 6.5\n",
    "    elif kg<21:\n",
    "        price = kg * 5\n",
    "elif continent == 'Antarctica':\n",
    "    if kg<6:\n",
    "        price = kg * 20\n",
    "    elif kg<11:\n",
    "        price = kg * 10\n",
    "    elif kg<16:\n",
    "        price = kg * 7.5\n",
    "    elif kg<21:\n",
    "        price = kg * 7\n",
    "elif continent == 'Asia':\n",
    "    if kg<6:\n",
    "        price = kg * 12\n",
    "    elif kg<11:\n",
    "        price = kg * 7\n",
    "    elif kg<16:\n",
    "        price = kg * 5.5\n",
    "    elif kg<21:\n",
    "        price = kg * 4\n",
    "elif continent == 'Europe':\n",
    "    if kg<6:\n",
    "        price = kg * 5\n",
    "    elif kg<11:\n",
    "        price = kg * 4\n",
    "    elif kg<16:\n",
    "        price = kg * 2.5\n",
    "    elif kg<21:\n",
    "        price = kg * 1.5\n",
    "elif continent == 'Oceania':\n",
    "    if kg<6:\n",
    "        price = kg * 12\n",
    "    elif kg<11:\n",
    "        price = kg * 7\n",
    "    elif kg<16:\n",
    "        price = kg * 5.5\n",
    "    elif kg<21:\n",
    "        price = kg * 4\n",
    "\n",
    "#// END_TODO [Send_a_parcel]\n",
    "\n",
    "print(price)"
   ]
  },
  {
   "cell_type": "markdown",
   "metadata": {},
   "source": [
    "# Factorials"
   ]
  },
  {
   "cell_type": "markdown",
   "metadata": {},
   "source": [
    "Write a program that computes factorials. The program uses the variable `num` as input and stores the result in the variable `factorial`.\n",
    "\n",
    "A factorial is computed as $n! = n \\times (n - 1) \\times (n - 2) \\times (n - 3) \\times ... \\times 3 \\times 2 \\times 1$.  \n",
    "For example, $6! = 6 \\times 5 \\times 4 \\times 3 \\times 2 \\times 1 = 720$.<br><br>\n",
    "**Note:**<br>\n",
    "1. Make use of a `while` loop.\n",
    "2. Store the result in variable `factorial`.\n",
    "3. In each iteration of the `while` loop, the `factorial` variable has to change.\n",
    "4. do not make use of built-in `factorial` function.\n",
    "\n",
    "**Example:**\n",
    "```python\n",
    "# Input\n",
    "num = 5\n",
    "\n",
    "# Output \n",
    "factorial\n",
    "120\n",
    "```"
   ]
  },
  {
   "cell_type": "code",
   "execution_count": 10,
   "metadata": {},
   "outputs": [
    {
     "name": "stdout",
     "output_type": "stream",
     "text": [
      "120\n"
     ]
    }
   ],
   "source": [
    "num = 5\n",
    "\n",
    "#// BEGIN_TODO [Factorials] Factorials\n",
    "\n",
    "factorial = num\n",
    "while num > 1:\n",
    "    factorial *= num-1\n",
    "    num -= 1\n",
    "\n",
    "#// END_TODO [Factorials]\n",
    "\n",
    "print(factorial)"
   ]
  },
  {
   "cell_type": "markdown",
   "metadata": {},
   "source": [
    "# Fibonacci Number"
   ]
  },
  {
   "cell_type": "markdown",
   "metadata": {},
   "source": [
    "Write a program that computes the Fibonacci number in the $n^{th}$ position of the Fibonacci sequence. In mathematics, the Fibonacci numbers, form a sequence, the Fibonacci sequence, in which each number is the sum of the two preceding ones.\n",
    "The Fibonacci sequence starts with `0` and `1`. \n",
    "\n",
    "Afterwards, to compute the term number $n$ you use the following formula $x_n = x_{n - 2} + x_{n - 1}$.\n",
    "Thus, the Fibonacci sequence looks like $0, 1, 1, 2, 3, 5, 8, 13, 21, ...$\n",
    "\n",
    "| Position | Fibonacci number |\n",
    "|:--------:|:----------------:|\n",
    "| 0 | 0 |\n",
    "| 1 | 1 |\n",
    "| 2 | 1 |\n",
    "| 3 | 2 |\n",
    "| 4 | 3 |\n",
    "| 5 | 5 |\n",
    "| 6 | 8 |\n",
    "| 7 | 13 |\n",
    "| 8 | 21 |\n",
    "| 9 | 34 |\n",
    "| 10 | 55 |\n",
    "| ... | ... |\n",
    "\n",
    "For example, the $6^{th}$ Fibonacci number of the sequence corresponds to 8.\n",
    "\n",
    "Set the Fibonacci number position in the variable `n` and print the message: \"The Fibonacci number in position `<n>` corresponds to `<fibonacci_num>`\".\n",
    "\n",
    "**Note:**<br>\n",
    "1. Make use of a `while` loop.\n",
    "2. Store the $n^{th}$ Fibonacci number in the variable `fibonacci`.\n",
    "3. The `n` variable has been given, there is no need to define it yourself.\n",
    "\n",
    "**Example:**\n",
    "```python\n",
    "# Input\n",
    "n = 10\n",
    "\n",
    "# Output\n",
    "'The Fibonacci number in position 10 corresponds to 55.'\n",
    "```"
   ]
  },
  {
   "cell_type": "code",
   "execution_count": 11,
   "metadata": {},
   "outputs": [
    {
     "name": "stdout",
     "output_type": "stream",
     "text": [
      "The Fibonacci number in position 10 corresponds to 55.\n"
     ]
    }
   ],
   "source": [
    "n = 10\n",
    "\n",
    "#// BEGIN_TODO [Fibonacci_number] Fibonacci number\n",
    "\n",
    "a=0\n",
    "b=1\n",
    "x=n\n",
    "if n==1:\n",
    "    fibonacci=1\n",
    "else:\n",
    "    while x!=1:\n",
    "        t=b\n",
    "        b=a+b\n",
    "        a=t\n",
    "        fibonacci=b\n",
    "        x -= 1\n",
    "print(\"The Fibonacci number in position \",n,\" corresponds to \",fibonacci,\".\",sep=\"\")\n",
    "\n",
    "#// END_TODO [Fibonacci_number]"
   ]
  },
  {
   "cell_type": "markdown",
   "metadata": {},
   "source": [
    "# Print Pattern"
   ]
  },
  {
   "cell_type": "markdown",
   "metadata": {},
   "source": [
    "Write a program that prints the following pattern: \n",
    "\n",
    "o  <br>\n",
    "oo  <br>\n",
    "ooo  <br>\n",
    "oooo  <br>\n",
    "ooooo  <br>\n",
    "oooooo  <br>\n",
    "ooooooo  <br>\n",
    "oooooooo  <br>\n",
    "ooooooooo  <br>\n",
    "oooooooooo  <br>\n",
    "\n",
    "This pattern is built based on a number `n` which determines the number of rows and the maximum number of columns of the pattern. Thus, if `n == 10`, the pattern will have 10 rows, starting with only one `o` in the first row and increasing until 10 `o` in the last one. Use a nested loop to get the expected result. \n",
    "\n",
    "**Note:**<br>\n",
    "1. Make use of **nested** 'while' loops.\n",
    "2. Use the `print()` function to make a new line at the end of each row.\n",
    "3. The variable `n` determining the number of rows has been defined.\n",
    "\n",
    "**Example:**\n",
    "```python\n",
    "# Input\n",
    "n = 5\n",
    "\n",
    "# Output\n",
    "'''\n",
    "o  \n",
    "oo  \n",
    "ooo  \n",
    "oooo  \n",
    "ooooo\n",
    "'''\n",
    "```"
   ]
  },
  {
   "cell_type": "code",
   "execution_count": 12,
   "metadata": {},
   "outputs": [
    {
     "name": "stdout",
     "output_type": "stream",
     "text": [
      "o\n",
      "oo\n",
      "ooo\n",
      "oooo\n",
      "ooooo\n"
     ]
    }
   ],
   "source": [
    "n = 5\n",
    "\n",
    "#// BEGIN_TODO [Print_pattern] Print pattern\n",
    "\n",
    "a=0\n",
    "while a<n:\n",
    "    b=0\n",
    "    while b<a:\n",
    "        print(\"o\",end=\"\")\n",
    "        b += 1\n",
    "    a += 1\n",
    "    print(\"o\")\n",
    "\n",
    "#// END_TODO [Print_pattern]"
   ]
  },
  {
   "cell_type": "code",
   "execution_count": 13,
   "metadata": {},
   "outputs": [
    {
     "name": "stdout",
     "output_type": "stream",
     "text": [
      "Variable       Type     Data/Info\n",
      "---------------------------------\n",
      "AFRICA         str      Africa\n",
      "AMERICA        str      America\n",
      "ANTARCTICA     str      Antarctica\n",
      "ASIA           str      Asia\n",
      "AUTHOR_DATE    str      2022-09-05\n",
      "AUTHOR_ID_NR   str      1879243\n",
      "AUTHOR_NAME    str      Zhou,Chenxiao\n",
      "EUROPE         str      Europe\n",
      "OCEANIA        str      Oceania\n",
      "a              int      5\n",
      "b              int      4\n",
      "bonus          float    1996.8\n",
      "celsius        float    37.77777777777778\n",
      "continent      str      Africa\n",
      "country        str      Brazil\n",
      "factorial      int      120\n",
      "fahrenheit     int      100\n",
      "fibonacci      int      55\n",
      "hours          int      40\n",
      "implication    bool     True\n",
      "kg             int      10\n",
      "n              int      5\n",
      "name           str      Ligia\n",
      "num            int      1\n",
      "p              bool     False\n",
      "pay            int      2080\n",
      "price          float    75.0\n",
      "q              bool     False\n",
      "rate           int      13\n",
      "t              int      34\n",
      "time           int      527040\n",
      "x              int      1\n"
     ]
    }
   ],
   "source": [
    "%whos"
   ]
  },
  {
   "cell_type": "markdown",
   "metadata": {},
   "source": [
    "---\n",
    "\n",
    "## (End of Notebook)\n",
    "\n",
    "&copy; 2021 - **TU/e** - Eindhoven University of Technology"
   ]
  }
 ],
 "metadata": {
  "anaconda-cloud": {},
  "kernelspec": {
   "display_name": "Python 3",
   "language": "python",
   "name": "python3"
  },
  "language_info": {
   "codemirror_mode": {
    "name": "ipython",
    "version": 3
   },
   "file_extension": ".py",
   "mimetype": "text/x-python",
   "name": "python",
   "nbconvert_exporter": "python",
   "pygments_lexer": "ipython3",
   "version": "3.8.8"
  }
 },
 "nbformat": 4,
 "nbformat_minor": 4
}
