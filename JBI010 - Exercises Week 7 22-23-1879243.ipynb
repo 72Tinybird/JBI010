{
 "cells": [
  {
   "cell_type": "markdown",
   "metadata": {},
   "source": [
    "# JBI010 - Exercises Week 7 22-23\n",
    "\n",
    "This Jupyter notebook aims to provide exercises for practicing your programming skills.  \n",
    "\n",
    "**Note:** Only five out of seven exercises–with a score of at least 80%–count for 5% of the course's final grade. Submit your notebook to Canvas, in this way Momotor will be able to give you feedback."
   ]
  },
  {
   "cell_type": "markdown",
   "metadata": {},
   "source": [
    "## Table of Contents\n",
    "\n",
    "<div class=\"toc\" style=\"margin-top: 1em;\">\n",
    "    <ul class=\"toc-item\">\n",
    "        <li>\n",
    "            <span><a href=\"#Dictionary-of-Continents\" data-toc-modified-id=\"Dictionary-of-Continents\">1. Dictionary of Continents</a></span>\n",
    "        </li>\n",
    "        <li>\n",
    "            <span><a href=\"#Average-Grades\" data-toc-modified-id=\"Average-Grades\">2. Average Grades</a></span>\n",
    "        </li>\n",
    "        <li>\n",
    "            <span><a href=\"#Exercises-Grades\" data-toc-modified-id=\"Exercises-Grades\">3. Exercises Grades</a></span>\n",
    "        </li>\n",
    "        <li>\n",
    "            <span><a href=\"#Recursive-Sum\" data-toc-modified-id=\"Recursive-Sum\">4. Recursive Sum</a></span>\n",
    "        </li>\n",
    "        <li>\n",
    "            <span><a href=\"#Factorial\" data-toc-modified-id=\"Factorial\">5. Factorial</a></span>\n",
    "        </li>\n",
    "        <li>\n",
    "            <span><a href=\"#Binary-search\" data-toc-modified-id=\"Binary-search\">6. Binary search</a></span>\n",
    "        </li>\n",
    "        </ul>\n",
    "</div>"
   ]
  },
  {
   "cell_type": "markdown",
   "metadata": {},
   "source": [
    "\n",
    "# Introduction to This Template Notebook\n",
    "\n",
    "* This is a **personal** notebook. \n",
    "* Make sure you work in a **copy** of `...-template.ipynb`,\n",
    "    **renamed** to `...-yourIDnr.ipynb`,\n",
    "    where `yourIDnr` is your TU/e identification number. \n",
    "\n",
    "<div class=\"alert alert-danger\" role=\"danger\">\n",
    "<h3>Integrity</h3>\n",
    "<ul>\n",
    "    <li>In this course, you must act according to the rules of the TU/e code of scientific conduct.</li>\n",
    "    <li>All the exercises and the graded assignments are to be done within your programming homework group.</li>\n",
    "    <li>You must not copy from the Internet, your friends, books... If you represent other people's work as your own, then that constitutes fraud and will be reported to the Examination Committee.</li>\n",
    "    <li>Making your work available to others (complicity) also constitutes fraud.</li>\n",
    "</ul>\n",
    "</div>\n",
    "\n",
    "You are expected to work with Python 3 code in this notebook.\n",
    "\n",
    "The locations where you should write your solutions can be recognized by\n",
    "**marker lines**,\n",
    "which look like this:\n",
    "\n",
    ">`#//`\n",
    ">    `BEGIN_TODO [Label]` `Description` `(n points)`\n",
    ">\n",
    ">`#//`\n",
    ">    `END_TODO [Label]`\n",
    "\n",
    "<div class=\"alert alert-warning\" role=\"alert\">\n",
    "    <h3>Markers</h3>\n",
    "    Do NOT modify or delete these marker lines.  Keep them as they are.<br/>\n",
    "    NEVER write code that is needed for grading <i>outside</i> the marked blocks. It is invisible there.\n",
    "</div>\n",
    "\n",
    "Proceed in this notebook as follows:\n",
    "* **Personalize** the notebook (see below)\n",
    "* **Read** the text.\n",
    "* **Fill in** your solutions between `BEGIN_TODO` and `END_TODO` marker lines.\n",
    "* **Run** _all_ code cells (also the ones _without_ your code),\n",
    "    _in linear order_ from the first code cell.\n",
    "\n",
    "**Personalize your notebook**:\n",
    "1. Fill in your _full name_, _identification number_, and the current _date_ as strings between quotes.\n",
    "1. Run the code cell by putting the cursor there and typing **Control-Enter**.\n"
   ]
  },
  {
   "cell_type": "code",
   "execution_count": 1,
   "metadata": {},
   "outputs": [
    {
     "data": {
      "text/plain": [
       "('Zhou Chenxiao', '1879243', '2022-10-17')"
      ]
     },
     "execution_count": 1,
     "metadata": {},
     "output_type": "execute_result"
    }
   ],
   "source": [
    "#// BEGIN_TODO [Author] Name, Id.nr., Date, as strings (1 point)\n",
    "\n",
    "AUTHOR_NAME = 'Zhou Chenxiao'\n",
    "AUTHOR_ID_NR = '1879243'\n",
    "AUTHOR_DATE = '2022-10-17'  # when first modified, e.g. '2022-09-05'\n",
    "\n",
    "#// END_TODO [Author]\n",
    "\n",
    "AUTHOR_NAME, AUTHOR_ID_NR, AUTHOR_DATE"
   ]
  },
  {
   "cell_type": "markdown",
   "metadata": {},
   "source": [
    "\n",
    "## How to Submit Your Work\n",
    "\n",
    "1. **Before submitting**, you must run your notebook by doing **Kernel > Restart & Run All**. Make sure that your notebook runs without errors **in linear order**.\n",
    "\n",
    "2. Submit the executed notebook with your work for the appropriate assignment in **Canvas**.\n",
    "\n",
    "* In the **Momotor** tab in Canvas,\n",
    "  you can select that assignment again to find some feedback on your submitted work.\n",
    "  \n",
    "* If there are any problems reported by _Momotor_,\n",
    "  then you need to fix those issues and **resubmit the fixed notebook**.\n",
    "\n",
    "In case of a high workload on our server\n",
    "(because many students submit close to the deadline),\n",
    "it may take longer to receive the feedback.\n"
   ]
  },
  {
   "cell_type": "markdown",
   "metadata": {},
   "source": [
    "## Preliminaries\n",
    "\n",
    "Run the cell below. This cell will import additional modules providing additional Python functionality."
   ]
  },
  {
   "cell_type": "code",
   "execution_count": 2,
   "metadata": {},
   "outputs": [],
   "source": [
    "# Imports\n"
   ]
  },
  {
   "cell_type": "markdown",
   "metadata": {},
   "source": [
    "## Important Reminder\n",
    "\n",
    "* Follow all coding conventions defined on the Python Coding Standard document. Remember that you are not just programming for a **machine**, you are mainly programming for **other humans!**\n",
    "    * In particular, all function definitions must have **type hints** and a **docstring**.\n",
    "    * A *valid* **docstring** starts with a capital letter and ends with a dot. "
   ]
  },
  {
   "cell_type": "markdown",
   "metadata": {},
   "source": [
    "# Dictionary of Continents"
   ]
  },
  {
   "cell_type": "code",
   "execution_count": 3,
   "metadata": {},
   "outputs": [],
   "source": [
    "# Change according to required imports\n",
    "from typing import List, Dict, Tuple"
   ]
  },
  {
   "cell_type": "markdown",
   "metadata": {},
   "source": [
    "In the next cell, we have the dictionary `countries_dict` containing the names of some countries and their corresponding capitals and continents. This dictionary is useful for looking up information about countries. However, we want to have a dictionary to search for information about continents. This is known as a *reverse lookup*.\n",
    "\n",
    "Create the function `create_continents_dict`, which takes a dictionary like `countries_dict` as input and returns a dictionary whose keys correspond to the names of the continents contained in the input dictionary. For each continent key, its value will be a list of the corresponding countries listed in the input dictionary.\n",
    "\n",
    "**Example:**\n",
    "```Python\n",
    "# Input\n",
    "countries_dict = {\n",
    "    'Andorra': ('Europe', 'Andorra la Vella'),\n",
    "    'Afghanistan': ('Asia', 'Kabul'),\n",
    "    'Antigua and Barbuda': ('North America', \"St. John's\"),\n",
    "    'Albania': ('Europe', 'Tirana'),\n",
    "    'Armenia': ('Asia', 'Yerevan')\n",
    "}\n",
    "\n",
    "# Output\n",
    "{Europe:  ['Andorra', 'Albania'],\n",
    "Asia: ['Afghanistan', 'Armenia'],\n",
    "North America: ['Antigua and Barbuda']}\n",
    "```"
   ]
  },
  {
   "cell_type": "code",
   "execution_count": 4,
   "metadata": {},
   "outputs": [],
   "source": [
    "countries_dict = {'Andorra': ('Europe', 'Andorra la Vella'),\n",
    "                  'Afghanistan': ('Asia', 'Kabul'),\n",
    "                  'Antigua and Barbuda': ('North America', \"St. John's\"),\n",
    "                  'Albania': ('Europe', 'Tirana'),\n",
    "                  'Armenia': ('Asia', 'Yerevan'),\n",
    "                  'Angola': ('Africa', 'Luanda'),\n",
    "                  'Argentina': ('South America', 'Buenos Aires'),\n",
    "                  'Austria': ('Europe', 'Vienna'),\n",
    "                  'Australia': ('Oceania', 'Canberra'),\n",
    "                  'Azerbaijan': ('Asia', 'Baku'),\n",
    "                  'Barbados': ('North America', 'Bridgetown'),\n",
    "                  'Bangladesh': ('Asia', 'Dhaka'),\n",
    "                  'Belgium': ('Europe', 'Brussels')}"
   ]
  },
  {
   "cell_type": "code",
   "execution_count": 5,
   "metadata": {
    "scrolled": true
   },
   "outputs": [
    {
     "name": "stdout",
     "output_type": "stream",
     "text": [
      "{'Europe': ['Andorra', 'Albania', 'Austria', 'Belgium'], 'Asia': ['Afghanistan', 'Armenia', 'Azerbaijan', 'Bangladesh'], 'North America': ['Antigua and Barbuda', 'Barbados'], 'Africa': ['Angola'], 'South America': ['Argentina'], 'Oceania': ['Australia']}\n"
     ]
    }
   ],
   "source": [
    "#// BEGIN_TODO [Dictionary_of_continents] Dictionary of continents\n",
    "\n",
    "def create_continents_dict(countries: Dict[str,Tuple[str]]) ->Dict[str,List[str]]:\n",
    "    \"\"\"For each continent key, its value will be a list of the corresponding countries listed in the input dictionary.\n",
    "    \"\"\"\n",
    "    continent_country={}\n",
    "    for key in countries.keys():\n",
    "        if countries[key][0] not in continent_country.keys():\n",
    "            continent_country[countries[key][0]] = [key]\n",
    "        elif countries[key][0] in continent_country.keys():\n",
    "            continent_country[countries[key][0]].append(key)\n",
    "    return continent_country\n",
    "\n",
    "#// END_TODO [Dictionary_of_continents]\n",
    "\n",
    "print(create_continents_dict(countries_dict))"
   ]
  },
  {
   "cell_type": "markdown",
   "metadata": {},
   "source": [
    "# Average Grades"
   ]
  },
  {
   "cell_type": "code",
   "execution_count": 6,
   "metadata": {},
   "outputs": [],
   "source": [
    "# Change according to required imports\n",
    "from typing import List, Dict"
   ]
  },
  {
   "cell_type": "markdown",
   "metadata": {},
   "source": [
    "Create the function `compute_avg_grade`, which computes the average grade of a group of students.\n",
    "The function takes a dictionary as input. \n",
    "Keys represent the names of the students, and values are lists of integers representing their term grades. \n",
    "The final grade should be the average of these numbers.\n",
    "Round the result to two decimal places.\n",
    "Store the result in a new dictionary that shares the same keys and has an integer value representing the final grade.\n",
    "Use comprehensions to solve this exercise.\n",
    "\n",
    "**Example:**\n",
    "```python\n",
    "# Program\n",
    "grades = {\n",
    "    'John': [10, 8, 9, 4, 7],\n",
    "    'Elisa': [3, 5, 10, 10, 10],\n",
    "    'Marko': [10, 4, 10, 4, 10],\n",
    "    'Sylvia': [10, 8, 7, 5, 6],\n",
    "    'Lihn': [10, 9, 8, 10, 4]\n",
    "}\n",
    "\n",
    "compute_avg_grade(grades)\n",
    "\n",
    "# Output\n",
    "{'John': 7.6, 'Elisa': 7.6, 'Marko': 7.6, 'Sylvia': 7.2, 'Lihn': 8.2}\n",
    "```"
   ]
  },
  {
   "cell_type": "code",
   "execution_count": 7,
   "metadata": {},
   "outputs": [
    {
     "data": {
      "text/plain": [
       "{'John': 7.6, 'Elisa': 7.6, 'Marko': 7.6, 'Sylvia': 7.2, 'Lihn': 8.2}"
      ]
     },
     "execution_count": 7,
     "metadata": {},
     "output_type": "execute_result"
    }
   ],
   "source": [
    "#// BEGIN_TODO [Average_grades] Average grades\n",
    "\n",
    "def compute_avg_grade(student: Dict[str,List[int]]) ->Dict[str,float]:\n",
    "    \"\"\"computes the average grade of a group of students.\n",
    "    \"\"\"\n",
    "    avg = {}\n",
    "    for key in student.keys():\n",
    "        total = 0\n",
    "        num = 0\n",
    "        for grade in student[key]:\n",
    "            total += grade\n",
    "            num += 1\n",
    "        avg[key] = round(total/num, 2)\n",
    "    return avg\n",
    "\n",
    "#// END_TODO [Average_grades]\n",
    "\n",
    "grades = {\n",
    "    'John': [10, 8, 9, 4, 7],\n",
    "    'Elisa': [3, 5, 10, 10, 10],\n",
    "    'Marko': [10, 4, 10, 4, 10],\n",
    "    'Sylvia': [10, 8, 7, 5, 6],\n",
    "    'Lihn': [10, 9, 8, 10, 4]\n",
    "}\n",
    "\n",
    "compute_avg_grade(grades)"
   ]
  },
  {
   "cell_type": "markdown",
   "metadata": {},
   "source": [
    "# Exercises Grades"
   ]
  },
  {
   "cell_type": "code",
   "execution_count": 8,
   "metadata": {},
   "outputs": [],
   "source": [
    "# Change according to required imports\n",
    "from typing import List, Dict"
   ]
  },
  {
   "cell_type": "markdown",
   "metadata": {},
   "source": [
    "Create the function `compute_exes_grade`, which takes two lists as input and returns a float with the exercises grades average of a Math course.\n",
    "The first input list is a list with student names; and the second list is a list with integer lists. \n",
    "Each integer list has seven grades.\n",
    "The `compute_exes_grade` function must compute the average of the 5 highest grades of the list of grades.\n",
    "Associate students' names to their corresponding grades. \n",
    "Assume that grades of student in the $i^{th}$ position are found on the $i^{th}$ position of the grades list.\n",
    "The output of the function should be a dictionary with student names as keys and average grades as values.\n",
    "\n",
    "**Note:** Using the `zip` function and comprehensions might be handy.\n",
    "\n",
    "**Example:**\n",
    "```python\n",
    "# Program\n",
    "names = ['Alice', 'Bob', 'Harry', 'Emma', 'Carla', 'Maurice']\n",
    "grades = [\n",
    "    [10, 8, 4, 10, 3, 10, 7],\n",
    "    [1, 2, 1, 10, 8, 10, 7],\n",
    "    [10, 10, 10, 10, 10, 10],\n",
    "    [7, 4, 6, 7, 5, 10, 1],\n",
    "    [10, 9, 8, 7, 9, 10, 10],\n",
    "    [5, 7, 7, 7, 8, 10, 3]\n",
    "]\n",
    "compute_exes_grade(names, grades)\n",
    "\n",
    "# Output\n",
    "{'Alice': 9.0,\n",
    " 'Bob': 7.4,\n",
    " 'Harry': 10.0,\n",
    " 'Emma': 7.0,\n",
    " 'Carla': 9.6,\n",
    " 'Maurice': 7.8}\n",
    "```"
   ]
  },
  {
   "cell_type": "code",
   "execution_count": 9,
   "metadata": {},
   "outputs": [
    {
     "data": {
      "text/plain": [
       "{'Alice': 9.0,\n",
       " 'Bob': 7.4,\n",
       " 'Harry': 10.0,\n",
       " 'Emma': 7.0,\n",
       " 'Carla': 9.6,\n",
       " 'Maurice': 7.8}"
      ]
     },
     "execution_count": 9,
     "metadata": {},
     "output_type": "execute_result"
    }
   ],
   "source": [
    "#// BEGIN_TODO [Exercises_grades] Exercises grades\n",
    "\n",
    "def compute_exes_grade(name: List[str], grade: List[List[int]]) ->Dict[str,float]:\n",
    "    \"\"\"returns a float with the exercises grades average of a Math course.\n",
    "    \"\"\"\n",
    "    names_grades = {}\n",
    "    name_grade = zip(name, grade)\n",
    "    for pair in name_grade:\n",
    "        total = 0\n",
    "        num = 0\n",
    "        pair[1].sort(reverse = True)\n",
    "        for gra in pair[1][:5]:\n",
    "            total += gra\n",
    "            num += 1\n",
    "        names_grades[pair[0]] = round(total/num, 1)\n",
    "    return names_grades\n",
    "            \n",
    "\n",
    "#// END_TODO [Exercises_grades]\n",
    "\n",
    "names = ['Alice', 'Bob', 'Harry', 'Emma', 'Carla', 'Maurice']\n",
    "grades = [\n",
    "    [10, 8, 4, 10, 3, 10, 7],\n",
    "    [1, 2, 1, 10, 8, 10, 7],\n",
    "    [10, 10, 10, 10, 10, 10],\n",
    "    [7, 4, 6, 7, 5, 10, 1],\n",
    "    [10, 9, 8, 7, 9, 10, 10],\n",
    "    [5, 7, 7, 7, 8, 10, 3]\n",
    "]\n",
    "\n",
    "compute_exes_grade(names, grades)"
   ]
  },
  {
   "cell_type": "markdown",
   "metadata": {},
   "source": [
    "# Recursive Sum"
   ]
  },
  {
   "cell_type": "code",
   "execution_count": 10,
   "metadata": {},
   "outputs": [],
   "source": [
    "# Change according to required imports\n",
    "from typing import List"
   ]
  },
  {
   "cell_type": "markdown",
   "metadata": {},
   "source": [
    "Define the function `recursive_sum` which computes the sum of a list of integers recursively.\n",
    "The function takes a list of integers, the current index of the list (integer), and the accumulated sum (integer) as parameters.\n",
    "Then, it returns the sum of all elements within the list.\n",
    "\n",
    "**Example:**\n",
    "```python\n",
    "# Program\n",
    "lst = [2, 4, 6, 8, 10, 12]\n",
    "index = 0 # start from the beginning of the list\n",
    "accum = 0 # initial sum is equal to zero\n",
    "\n",
    "recursive_sum(lst, 0, 0)\n",
    "\n",
    "# Output\n",
    "42\n",
    "```"
   ]
  },
  {
   "cell_type": "code",
   "execution_count": 11,
   "metadata": {},
   "outputs": [],
   "source": [
    "#// BEGIN_TODO [Recursive_sum] Recursive sum\n",
    "\n",
    "def recursive_sum(num:List[int], index:int, accum:int) ->int:\n",
    "    \"\"\"computes the sum of a list of integers recursively. \n",
    "    \"\"\"\n",
    "    if index == len(num):\n",
    "        return accum\n",
    "    return recursive_sum(num, index+1, accum+num[index])\n",
    "\n",
    "#// END_TODO [Recursive_sum] "
   ]
  },
  {
   "cell_type": "markdown",
   "metadata": {},
   "source": [
    "# Factorial"
   ]
  },
  {
   "cell_type": "code",
   "execution_count": 12,
   "metadata": {},
   "outputs": [],
   "source": [
    "# Change according to required imports\n",
    "from typing import List"
   ]
  },
  {
   "cell_type": "markdown",
   "metadata": {},
   "source": [
    "Create the function `recursive_factorial`, which computes the factorial of a number recursively. \n",
    "The function gets the target number for which we want to compute the factorial and the accumulated result as input. \n",
    "This function is known as a **tail-recursive** function because it only returns the result of calling itself.\n",
    "Notice that the result of every call is stored in the **accumulator** parameter.\n",
    "\n",
    "**Example:**\n",
    "```python\n",
    "# Program\n",
    "num = 10  # target number, i.e. 10!\n",
    "accum = 1 # starts with 1 given that 1 x n = n\n",
    "\n",
    "recursive_factorial(10, 1)\n",
    "\n",
    "# Output\n",
    "3628800\n",
    "```"
   ]
  },
  {
   "cell_type": "code",
   "execution_count": 13,
   "metadata": {},
   "outputs": [],
   "source": [
    "#// BEGIN_TODO [Factorial] Factorial \n",
    "\n",
    "def recursive_factorial(num:int, accum:int) ->int:\n",
    "    \"\"\"computes the factorial of a number recursively.\n",
    "    \"\"\"\n",
    "    if num == 1:\n",
    "        return accum\n",
    "    return recursive_factorial(num-1, accum*num)\n",
    "\n",
    "#// END_TODO [Factorial] "
   ]
  },
  {
   "cell_type": "markdown",
   "metadata": {},
   "source": [
    "# Binary search"
   ]
  },
  {
   "cell_type": "code",
   "execution_count": 14,
   "metadata": {},
   "outputs": [],
   "source": [
    "# Change according to required imports\n",
    "from typing import List"
   ]
  },
  {
   "cell_type": "markdown",
   "metadata": {},
   "source": [
    "Create the function `recursive_binary_search`, which is the recursive version of a binary search.\n",
    "The function gets a sorted list of integers, the integer value to find, a start index, and an end index as inputs.  \n",
    "Then, it returns the index of the first occurrence of the value in the input list.\n",
    "If the integer is not part of the list, the function returns `-1`.\n",
    "\n",
    "**Example:**\n",
    "```python\n",
    "# Program \n",
    "lst = [1, 2, 4, 4, 5, 7, 9, 10, 12, 15, 20, 20, 25, 33, 33, 44, 55, 60, 61, 62, 64, \n",
    "    67, 70, 73, 76, 78]\n",
    "start = 0          # first index of the list\n",
    "end = len(lst) - 1 # last index of the list\n",
    "\n",
    "recursive_binary_search(lst, 60, start, end)\n",
    "\n",
    "# Output\n",
    "17\n",
    "```"
   ]
  },
  {
   "cell_type": "code",
   "execution_count": 15,
   "metadata": {},
   "outputs": [
    {
     "data": {
      "text/plain": [
       "17"
      ]
     },
     "execution_count": 15,
     "metadata": {},
     "output_type": "execute_result"
    }
   ],
   "source": [
    "#// BEGIN_TODO [Binary_search] Binary search\n",
    "\n",
    "def recursive_binary_search(lst: List[int], num: int, start:int, end:int) ->int:\n",
    "    \"\"\" recursive version of a binary search.\n",
    "    \"\"\"\n",
    "    middle = (start + end)//2\n",
    "    if lst[middle] == num:\n",
    "        return middle\n",
    "    if start >= end:\n",
    "        return -1\n",
    "    if lst[middle] < num:\n",
    "        return recursive_binary_search(lst, num, middle + 1, end)\n",
    "    else:\n",
    "        return recursive_binary_search(lst, num, start, middle -1)\n",
    "    \n",
    "    \n",
    "\n",
    "#// END_TODO [Binary_search] \n",
    "\n",
    "lst = [1, 2, 4, 4, 5, 7, 9, 10, 12, 15, 20, 20, 25, 33, 33, 44, 55, 60, 61, 62, 64, \n",
    "    67, 70, 73, 76, 78]\n",
    "start = 0          # first index of the list\n",
    "end = len(lst) - 1 # last index of the list\n",
    "\n",
    "recursive_binary_search(lst, 60, start, end)"
   ]
  },
  {
   "cell_type": "code",
   "execution_count": 16,
   "metadata": {},
   "outputs": [
    {
     "name": "stdout",
     "output_type": "stream",
     "text": [
      "Variable                  Type                     Data/Info\n",
      "------------------------------------------------------------\n",
      "AUTHOR_DATE               str                      2022-10-17\n",
      "AUTHOR_ID_NR              str                      1879243\n",
      "AUTHOR_NAME               str                      Zhou Chenxiao\n",
      "Dict                      _GenericAlias            typing.Dict\n",
      "List                      _GenericAlias            typing.List\n",
      "Tuple                     _VariadicGenericAlias    typing.Tuple\n",
      "compute_avg_grade         function                 <function compute_avg_gra<...>de at 0x0000018F2788C280>\n",
      "compute_exes_grade        function                 <function compute_exes_gr<...>de at 0x0000018F2785B700>\n",
      "countries_dict            dict                     n=13\n",
      "create_continents_dict    function                 <function create_continen<...>ct at 0x0000018F2785BC10>\n",
      "end                       int                      25\n",
      "grades                    list                     n=6\n",
      "lst                       list                     n=26\n",
      "names                     list                     n=6\n",
      "recursive_binary_search   function                 <function recursive_binar<...>ch at 0x0000018F2788C820>\n",
      "recursive_factorial       function                 <function recursive_facto<...>al at 0x0000018F2788C0D0>\n",
      "recursive_sum             function                 <function recursive_sum at 0x0000018F2785B430>\n",
      "start                     int                      0\n"
     ]
    }
   ],
   "source": [
    "%whos"
   ]
  },
  {
   "cell_type": "markdown",
   "metadata": {},
   "source": [
    "---\n",
    "\n",
    "## (End of Notebook)\n",
    "\n",
    "&copy; 2021 - **TU/e** - Eindhoven University of Technology"
   ]
  }
 ],
 "metadata": {
  "anaconda-cloud": {},
  "kernelspec": {
   "display_name": "Python 3",
   "language": "python",
   "name": "python3"
  },
  "language_info": {
   "codemirror_mode": {
    "name": "ipython",
    "version": 3
   },
   "file_extension": ".py",
   "mimetype": "text/x-python",
   "name": "python",
   "nbconvert_exporter": "python",
   "pygments_lexer": "ipython3",
   "version": "3.8.8"
  }
 },
 "nbformat": 4,
 "nbformat_minor": 4
}
